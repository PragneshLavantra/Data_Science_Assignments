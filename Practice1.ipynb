{
 "cells": [
  {
   "cell_type": "markdown",
   "id": "cb6b8175-0fda-4507-bcad-af5f8613dfae",
   "metadata": {},
   "source": [
    "# 06th February Assignment"
   ]
  },
  {
   "cell_type": "markdown",
   "id": "a7897c76-2102-4950-91cd-e5fb8eb76de7",
   "metadata": {},
   "source": [
    "# Q1. Create a function which will take a list as an argument and return the product of all the numbers after creating a flat list.\n",
    "\n",
    "# Use the below-given list as an argument for your function.\n",
    "\n",
    "\n",
    "# list1 = [1,2,3,4, [44,55,66, True], False, (34,56,78,89,34), {1,2,3,3,2,1}, {1:34, \"key2\": [55, 67, 78, 89], 4: (45, 22, 61, 34)}, [56, 'data science'], 'Machine Learning']\n",
    "\n",
    "\n",
    "Note: you must extract numeric keys and values of the dictionary also."
   ]
  },
  {
   "cell_type": "code",
   "execution_count": 46,
   "id": "309d4759-781c-44e2-b046-62734443f632",
   "metadata": {},
   "outputs": [
    {
     "name": "stdout",
     "output_type": "stream",
     "text": [
      "4134711838987085478833841242112000\n"
     ]
    }
   ],
   "source": [
    "def productNo(lst):\n",
    "    p = []\n",
    "    for i in lst:\n",
    "        nslst = []\n",
    "        if type(i) == int or type(i) == float:\n",
    "            p.append(i)\n",
    "        elif type(i) == list or type(i) == tuple or type(i) == set:\n",
    "            for j in i:\n",
    "                if type(j) == int or type(j) == float:\n",
    "                    nslst.append(j)\n",
    "            # print(nslst)\n",
    "            p.extend(nslst)\n",
    "            \n",
    "        elif type(i) == dict:\n",
    "            for key, value in i.items():\n",
    "                if type(key) == int or type(key) == float and type(key) != str:\n",
    "                    nslst.append(key)\n",
    "                   # print(\"key \",key)\n",
    "                if type(value) == int or type(value) == float:\n",
    "                    nslst.append(value)\n",
    "                   # print(\"value \",value)\n",
    "                        \n",
    "                if type(value) == tuple or type(value) == list:\n",
    "                    for j in value:\n",
    "                        if type(j) == int or type(j) == float:\n",
    "                            nslst.append(j)\n",
    "                           # print(\"nsvalue \",j)\n",
    "           # print(nslst)\n",
    "            p.extend(nslst)\n",
    "        else:\n",
    "            continue # hear one bool is false means 0 (0 * any number = 0)\n",
    "\n",
    "                    \n",
    "    pro = 1\n",
    "    for j in p:\n",
    "        if type(j) == int or type(j) == float:\n",
    "            #print(j,end=\" \")\n",
    "            pro *= j\n",
    "        else:\n",
    "            continue \n",
    "    return print(pro)\n",
    "\n",
    "lst = [1,2,3,4, [44,55,66, True], False, (34,56,78,89,34), {1,2,3,3,2,1}, {1:34, \"key2\": [55, 67, 78, 89], 4: (45, 22, 61, 34)}, [56, 'data science'], 'Machine Learning'] \n",
    "productNo(lst)    "
   ]
  },
  {
   "cell_type": "markdown",
   "id": "f7b6f329-4c57-4b53-9118-cb59e2b02af0",
   "metadata": {},
   "source": [
    "# Q2. Write a python program for encrypting a message sent to you by your friend. The logic of encryption should be such that, for 'a' the output should be z. For 'b', the output should be y. For c, the output should be x respectively. Also, the whitespace should be replaced with a dollar sign. Keep the punctuation marks unchanged.\n",
    "\n",
    "\n",
    "# Input Sentence: I want to become a Data Scientist.\n",
    "\n",
    "\n",
    "# Encrypt the above input sentence using the program you just created.\n",
    "\n",
    "\n",
    "Note: Convert the given input sentence into lowercase before encrypting. The final output should be\n",
    "lowercase"
   ]
  },
  {
   "cell_type": "code",
   "execution_count": 47,
   "id": "55741d61-6dd7-40b8-a1d1-21dd63daa139",
   "metadata": {},
   "outputs": [
    {
     "name": "stdout",
     "output_type": "stream",
     "text": [
      "r$dzmg$gl$yvxlnv$z$wzgz$hxrvmgrhg.\n",
      "ovzim.kdhprooh.xln\n"
     ]
    }
   ],
   "source": [
    "def encryptionMsg(str):\n",
    "    str = str.lower()\n",
    "    encryptedStr = \"\"\n",
    "    for i in str:\n",
    "        if i.isalpha():\n",
    "            asci = ord(i) - ord('a')\n",
    "            encryptedStr += chr(ord('z') - asci)\n",
    "        elif i.isspace():\n",
    "            encryptedStr += '$'\n",
    "        else:\n",
    "            encryptedStr += '.'\n",
    "    return print(encryptedStr)\n",
    "\n",
    "encryptionMsg(\"I want to become a Data Scientist.\")\n",
    "encryptionMsg(\"learn.pwskills.com\")"
   ]
  }
 ],
 "metadata": {
  "kernelspec": {
   "display_name": "Python 3 (ipykernel)",
   "language": "python",
   "name": "python3"
  },
  "language_info": {
   "codemirror_mode": {
    "name": "ipython",
    "version": 3
   },
   "file_extension": ".py",
   "mimetype": "text/x-python",
   "name": "python",
   "nbconvert_exporter": "python",
   "pygments_lexer": "ipython3",
   "version": "3.10.8"
  }
 },
 "nbformat": 4,
 "nbformat_minor": 5
}
