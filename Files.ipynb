{
 "cells": [
  {
   "cell_type": "markdown",
   "id": "a91b6bd1-acaa-4b0a-976b-081b97ec562b",
   "metadata": {},
   "source": [
    "# 10 February Assignment"
   ]
  },
  {
   "cell_type": "markdown",
   "id": "cc7188a2-4843-4a85-8792-4da1fb384c94",
   "metadata": {},
   "source": [
    "# Q1. Which function is used to open a file? What are the different modes of opening a file? Explain each mode of file opening."
   ]
  },
  {
   "cell_type": "markdown",
   "id": "4417fa23-f714-4300-882b-7ec811289ccd",
   "metadata": {},
   "source": [
    "### The open() function is used to open a file in Python.\n",
    "\n",
    "### The different modes of opening a file are:\n",
    "\n",
    "### 1. \"r\": Read mode. This mode is used to read the contents of an existing file.\n",
    "\n",
    "### 2. \"w\": Write mode. This mode is used to write new data to a file, or to overwrite the existing data in a file.\n",
    "\n",
    "### 3. \"a\": Append mode. This mode is used to add new data to the end of an existing file.\n",
    "\n",
    "### 4. \"x\": Exclusive mode. This mode is used to create a new file, but only if it doesn't already exist.\n",
    "\n",
    "### 5. \"rb\": Binary mode. This mode is used to read binary data.\n",
    "\n",
    "### 6. \"wb\": Binary mode. This mode is used to write binary data.\n",
    "\n",
    "### 6. \"t\": Text mode. This mode is used to read or write text data.\n",
    "\n",
    "### The mode can be specified by including it as the second argument to the open() function. For example, to open a file in read mode, you would use:\n",
    "\n",
    "\n"
   ]
  },
  {
   "cell_type": "code",
   "execution_count": null,
   "id": "b67fbacd-6051-4f25-9618-3340de7bdfc9",
   "metadata": {},
   "outputs": [],
   "source": [
    "file = open('test1.txt', 'r')"
   ]
  },
  {
   "cell_type": "markdown",
   "id": "0b0fcf7e-8db8-4789-a353-40ae86ea3eb8",
   "metadata": {},
   "source": [
    "### Or to open a file in write mode, you would use:"
   ]
  },
  {
   "cell_type": "code",
   "execution_count": null,
   "id": "64becb7d-13b5-43b8-ad99-a5cd031beb74",
   "metadata": {},
   "outputs": [],
   "source": [
    "file = open('test1.txt', 'w')"
   ]
  },
  {
   "cell_type": "markdown",
   "id": "991c1113-1dec-48a7-bb8f-14319566ccf2",
   "metadata": {},
   "source": [
    "### Note that if you omit the mode argument, the file will be opened in read mode by default."
   ]
  },
  {
   "cell_type": "markdown",
   "id": "90efee80-69f7-4b07-a3f9-c751a6f2c52a",
   "metadata": {},
   "source": [
    "### -> The \"text mode\" in Python refers to opening a file in text mode as opposed to binary mode.\n",
    "\n",
    "### To open a file in text mode, you can use the open function in Python with the mode argument set to \"r\" (read-only) or \"w\" (write).\n",
    "\n",
    "### For example:"
   ]
  },
  {
   "cell_type": "code",
   "execution_count": null,
   "id": "8c94bb24-d707-4772-9828-ef517949fa5a",
   "metadata": {},
   "outputs": [],
   "source": [
    "with open('test1.txt', 'r') as f:\n",
    "    print(f.read())\n",
    "    \n",
    "with open ('test1.txt', 'w') as f:\n",
    "    f.write('Hello world')"
   ]
  },
  {
   "cell_type": "markdown",
   "id": "1514dbd9-bff4-49ac-86cc-63c02921689c",
   "metadata": {},
   "source": [
    "# Q2. Why close() function is used? Why is it important to close a file?"
   ]
  },
  {
   "cell_type": "markdown",
   "id": "4a41862c-29cc-474b-99aa-7690326e860e",
   "metadata": {},
   "source": [
    "### The close() function in Python is used to close an open file. It is important to close a file after you have finished reading from or writing to it, because it releases the resources used by the file and ensures that any pending data is written to the file. Failing to close a file can result in data corruption or loss, as well as resource leaks in your program.\n",
    " \n",
    "### When you open a file in Python, the operating system reserves certain resources to handle the file, such as a file descriptor, buffer space, and memory. If you don't close the file after you're done with it, these resources will remain reserved, which can lead to memory leaks, reduced performance, and other issues.\n",
    "\n",
    "### In addition to releasing resources, closing a file also ensures that any pending data is written to the file. When you write to a file in Python, the data is first stored in a buffer, and then written to the file when the buffer is full or when you close the file. If you don't close the file, the data may not be written to the file until much later, or it may not be written at all if the program crashes before the file is closed.\n",
    "\n",
    "### In summary, it is important to always close a file in Python using the 'close()' function to release the resources used by the file and ensure that any pending data is written to the file. \n",
    "\n",
    "### You can also use the 'with' statement in Python to automatically close the file when you're done with it, without having to call close() explicitly."
   ]
  },
  {
   "cell_type": "markdown",
   "id": "31c25092-0e8b-4891-8bd9-ad3ed7c8bc6c",
   "metadata": {},
   "source": [
    "# Q3. Write a python program to create a text file. Write ‘I want to become a Data Scientist’ in that file. Then close the file. Open this file and read the content of the file."
   ]
  },
  {
   "cell_type": "code",
   "execution_count": 3,
   "id": "a971ebb8-cf3c-4802-9e7c-cae436b539c9",
   "metadata": {},
   "outputs": [],
   "source": [
    "file = open('test1.txt', 'x')"
   ]
  },
  {
   "cell_type": "code",
   "execution_count": 4,
   "id": "2b888d30-2028-4b94-ab52-a1b4561fdc8d",
   "metadata": {},
   "outputs": [
    {
     "data": {
      "text/plain": [
       "33"
      ]
     },
     "execution_count": 4,
     "metadata": {},
     "output_type": "execute_result"
    }
   ],
   "source": [
    "file.write('I want to become a Data Scientist')"
   ]
  },
  {
   "cell_type": "code",
   "execution_count": 5,
   "id": "0e3c87d0-39ab-47bd-863a-a09ab02e0129",
   "metadata": {},
   "outputs": [],
   "source": [
    "file.close()"
   ]
  },
  {
   "cell_type": "code",
   "execution_count": 6,
   "id": "da2fe265-c834-4e94-9193-3279065a12ac",
   "metadata": {},
   "outputs": [
    {
     "name": "stdout",
     "output_type": "stream",
     "text": [
      "I want to become a Data Scientist\n"
     ]
    }
   ],
   "source": [
    "with open('test1.txt', 'r') as f:\n",
    "    print(f.read())"
   ]
  },
  {
   "cell_type": "markdown",
   "id": "06dd642a-70c6-4aa5-bc9f-a60cb10a1d19",
   "metadata": {},
   "source": [
    "# Q4. Explain the following with python code: read(), readline() and readlines()."
   ]
  },
  {
   "cell_type": "markdown",
   "id": "2d18af9c-d2e7-4c8b-80b1-6a284598759d",
   "metadata": {},
   "source": [
    "### In Python, there are several methods that can be used to read from a file. These include read(), readline(), and readlines(). Here's a brief explanation of each method:\n",
    "\n",
    "### 1. read() - This method reads the entire contents of a file and returns it as a string. You can specify an optional argument to limit the number of characters to read. If you don't specify an argument, the method will read the entire file."
   ]
  },
  {
   "cell_type": "code",
   "execution_count": 21,
   "id": "81839a7c-969c-404f-a357-b71da4c5d982",
   "metadata": {},
   "outputs": [
    {
     "name": "stdout",
     "output_type": "stream",
     "text": [
      "It's read whole string :  I want to become a Data Scientist\n"
     ]
    }
   ],
   "source": [
    "with open('test1.txt', 'r') as f:\n",
    "    print('It\\'s read whole string : ', f.read())"
   ]
  },
  {
   "cell_type": "code",
   "execution_count": 22,
   "id": "e46e2f68-3cde-4951-a56d-fc29fe00d23d",
   "metadata": {},
   "outputs": [
    {
     "name": "stdout",
     "output_type": "stream",
     "text": [
      "It's read 1st '11' character with white space :  I want to b\n"
     ]
    }
   ],
   "source": [
    "with open('test1.txt', 'r') as f:\n",
    "    print('It\\'s read 1st \\'11\\' character with white space : ',f.read(11))"
   ]
  },
  {
   "cell_type": "markdown",
   "id": "a49a9148-b5e7-41d3-845f-e14ef5246e03",
   "metadata": {},
   "source": [
    "### readline() - This method reads a single line from a file and returns it as a string. If you call readline() multiple times, it will return subsequent lines in the file. If there are no more lines in the file, the method will return an empty string."
   ]
  },
  {
   "cell_type": "code",
   "execution_count": 23,
   "id": "fb779b2c-a7c9-4b27-9789-31ee07b9fdf5",
   "metadata": {},
   "outputs": [],
   "source": [
    "with open('test1.txt', 'a') as f:\n",
    "    f.write('\\nPwskills is the best source to achive your goal.')"
   ]
  },
  {
   "cell_type": "code",
   "execution_count": 27,
   "id": "8c2f6152-67fb-4a6b-9dfd-888775f42775",
   "metadata": {},
   "outputs": [
    {
     "name": "stdout",
     "output_type": "stream",
     "text": [
      "It's return 1st line from the file I want to become a Data Scientist\n",
      "\n",
      "It's return 2nd line from the file Pwskills is the best source to achive your goal.\n",
      "It's return empty line because there is no data in file \n",
      "It's return empty line because there is no data in file \n"
     ]
    }
   ],
   "source": [
    "with open('test1.txt', 'r') as f:\n",
    "    print('It\\'s return 1st line from the file',f.readline()) \n",
    "    print('It\\'s return 2nd line from the file',f.readline())\n",
    "    print('It\\'s return empty line because there is no data in file',f.readline())\n",
    "    print('It\\'s return empty line because there is no data in file',f.readline())"
   ]
  },
  {
   "cell_type": "markdown",
   "id": "34e650e8-9218-4068-b9b9-408922ba79f6",
   "metadata": {},
   "source": [
    "### readlines() - This method reads all the lines in a file and returns them as a list of strings. Each string in the list corresponds to a single line in the file."
   ]
  },
  {
   "cell_type": "code",
   "execution_count": 28,
   "id": "cfd60432-aca2-46d9-9d9f-9bc552617626",
   "metadata": {},
   "outputs": [
    {
     "name": "stdout",
     "output_type": "stream",
     "text": [
      "['I want to become a Data Scientist\\n', 'Pwskills is the best source to achive your goal.']\n"
     ]
    }
   ],
   "source": [
    "with open('test1.txt', 'r') as f:\n",
    "    print(f.readlines())"
   ]
  },
  {
   "cell_type": "markdown",
   "id": "4ac91928-df2d-476a-82c6-0d264b038e29",
   "metadata": {},
   "source": [
    "# Q5. Explain why with statement is used with open(). What is the advantage of using with statement and open() together?"
   ]
  },
  {
   "cell_type": "markdown",
   "id": "7139567b-178d-44ab-b223-cfe442bd3146",
   "metadata": {},
   "source": [
    "### The 'with' statement is used 'with open()' to automatically manage the opening and closing of files in Python. It ensures that the file is closed properly after the code block is executed, even if an exception occurs.\n",
    "\n",
    "### The advantage of using 'with' statement and 'open()' together is that it helps to simplify code and makes it more readable. It also ensures that resources are properly managed and reduces the likelihood of errors due to file handling issues. This is particularly useful for handling large files or when working with multiple files in a program."
   ]
  },
  {
   "cell_type": "markdown",
   "id": "3100baa5-87e9-4be6-ba4f-1d0f154fc29d",
   "metadata": {},
   "source": [
    "# Q6. Explain the write() and writelines() functions. Give a suitable example."
   ]
  },
  {
   "cell_type": "markdown",
   "id": "f4a8751c-a45a-4187-be4d-30ed497653e5",
   "metadata": {},
   "source": [
    "### write() and writelines() are methods used to write data to a file in Python.\n",
    "\n",
    "### write() method is used to write a single string to a file. It takes a string as an argument and writes it to the file. If the file already exists, it will overwrite the previous content with the new content.\n",
    "\n",
    "### Example:"
   ]
  },
  {
   "cell_type": "code",
   "execution_count": 9,
   "id": "1b5a7c25-7cb6-45fc-8a61-a823e88eafe1",
   "metadata": {},
   "outputs": [],
   "source": [
    "with open('test2.txt', 'w') as f:          # if file is not exist then 'w' creat the new file\n",
    "    f.write('My name is Pragnesh.')"
   ]
  },
  {
   "cell_type": "code",
   "execution_count": 11,
   "id": "ffe2480d-b7ac-49b2-ac55-b1fbc3b90dd8",
   "metadata": {},
   "outputs": [],
   "source": [
    "with open('test2.txt', 'w') as f:          # it's overwrite old data\n",
    "    f.write('My name is Pragnesh Lavantra.')"
   ]
  },
  {
   "cell_type": "markdown",
   "id": "b22ff480-ba6e-4278-bc67-75f6126b4161",
   "metadata": {},
   "source": [
    "### writelines() method is used to write a list of strings to a file. It takes an iterable (like a list or tuple) containing strings as an argument and writes each string to the file on a new line.\n",
    "\n",
    "### Example:"
   ]
  },
  {
   "cell_type": "code",
   "execution_count": 14,
   "id": "2b8af822-4de1-49a3-86c5-f2d2b177edea",
   "metadata": {},
   "outputs": [],
   "source": [
    "lines = ['Pragnesh\\n', 'Sureshbhai\\n', 'Lavantra\\n']\n",
    "\n",
    "with open('test3.txt', 'w') as f:\n",
    "    f.writelines(lines)"
   ]
  }
 ],
 "metadata": {
  "kernelspec": {
   "display_name": "Python 3 (ipykernel)",
   "language": "python",
   "name": "python3"
  },
  "language_info": {
   "codemirror_mode": {
    "name": "ipython",
    "version": 3
   },
   "file_extension": ".py",
   "mimetype": "text/x-python",
   "name": "python",
   "nbconvert_exporter": "python",
   "pygments_lexer": "ipython3",
   "version": "3.10.8"
  }
 },
 "nbformat": 4,
 "nbformat_minor": 5
}
