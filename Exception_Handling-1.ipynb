{
 "cells": [
  {
   "cell_type": "markdown",
   "id": "30859ae6-e978-4b62-a272-9d1d095448c0",
   "metadata": {},
   "source": [
    "# 12 February Assignment"
   ]
  },
  {
   "cell_type": "markdown",
   "id": "b62dc284-33f2-4a68-aacb-c43f727a35ab",
   "metadata": {},
   "source": [
    "# Q1. Wht is an Exeption in python? Write the difference between Exceptions and syntaxt errors?"
   ]
  },
  {
   "cell_type": "markdown",
   "id": "51d2a333-9a82-4d15-8146-5c3bb460d07d",
   "metadata": {},
   "source": [
    "### An exception in Python is an event that occurs during the execution of a program that disrupts the normal flow of the program's instructions. Exceptions are used to indicate that an error has occurred, such as a division by zero or trying to access an item in a list that doesn't exist.\n",
    "\n",
    "### Syntax errors, on the other hand, are errors in the syntax of the program, i.e., they occur when the code is not written in the correct form that the Python interpreter can understand. For example, forgetting a colon at the end of a statement, forgetting quotes around a string, etc.\n",
    "\n",
    "### The difference between exceptions and syntax errors is that syntax errors prevent the program from executing at all, whereas exceptions occur during the execution of the program but can be handled by the programmer. This allows the program to continue running even if an error occurs."
   ]
  },
  {
   "cell_type": "markdown",
   "id": "c637ef17-db07-47ba-85aa-49e7f093f5e5",
   "metadata": {},
   "source": [
    "# Q2. What happens when an exception is not handled? Explain with an example?"
   ]
  },
  {
   "cell_type": "markdown",
   "id": "17b7c858-bb02-438f-bdc4-af68b5633f9d",
   "metadata": {},
   "source": [
    "### When an exception is not handled in Python, it results in a runtime error, and the program stops executing. The Python interpreter will print out an error message that describes the type of exception that occurred, the location in the code where the exception occurred, and a traceback that shows the sequence of function calls that led to the exception."
   ]
  },
  {
   "cell_type": "code",
   "execution_count": 2,
   "id": "ffd94d0c-15e8-4e36-ab51-f26e084d5354",
   "metadata": {},
   "outputs": [
    {
     "name": "stdin",
     "output_type": "stream",
     "text": [
      "Enter a denominator:  0\n"
     ]
    },
    {
     "ename": "ZeroDivisionError",
     "evalue": "division by zero",
     "output_type": "error",
     "traceback": [
      "\u001b[0;31m---------------------------------------------------------------------------\u001b[0m",
      "\u001b[0;31mZeroDivisionError\u001b[0m                         Traceback (most recent call last)",
      "Cell \u001b[0;32mIn[2], line 6\u001b[0m\n\u001b[1;32m      3\u001b[0m numerator \u001b[38;5;241m=\u001b[39m \u001b[38;5;241m10\u001b[39m\n\u001b[1;32m      4\u001b[0m denominator \u001b[38;5;241m=\u001b[39m \u001b[38;5;28mint\u001b[39m(\u001b[38;5;28minput\u001b[39m(\u001b[38;5;124m\"\u001b[39m\u001b[38;5;124mEnter a denominator: \u001b[39m\u001b[38;5;124m\"\u001b[39m))\n\u001b[0;32m----> 6\u001b[0m result \u001b[38;5;241m=\u001b[39m \u001b[43mnumerator\u001b[49m\u001b[43m \u001b[49m\u001b[38;5;241;43m/\u001b[39;49m\u001b[43m \u001b[49m\u001b[43mdenominator\u001b[49m\n\u001b[1;32m      8\u001b[0m \u001b[38;5;28mprint\u001b[39m(result)\n",
      "\u001b[0;31mZeroDivisionError\u001b[0m: division by zero"
     ]
    }
   ],
   "source": [
    "# This program will raise a ZeroDivisionError if the user inputs 0 as the denominator\n",
    "\n",
    "numerator = 10\n",
    "denominator = int(input(\"Enter a denominator: \"))\n",
    "\n",
    "result = numerator / denominator\n",
    "\n",
    "print(result)"
   ]
  },
  {
   "cell_type": "markdown",
   "id": "41ef9f25-ae8b-45bb-ab1a-3ce6bc239130",
   "metadata": {},
   "source": [
    "### As we can see, the program stopped executing and raised a ZeroDivisionError, which was not handled. To prevent this, we can use a try-except block to catch the exception and handle it in some way, such as displaying a message to the user or logging the error."
   ]
  },
  {
   "cell_type": "markdown",
   "id": "97226865-6f67-4ff5-b5ca-bd509fdf7d38",
   "metadata": {},
   "source": [
    "# Q3. Which Python statements are used to catch the handle exceptions? Explain with an example?"
   ]
  },
  {
   "cell_type": "markdown",
   "id": "0fe8b0b9-1b0d-4130-a6be-1bb2acd09768",
   "metadata": {},
   "source": [
    "### In Python, the 'try' and 'except' statements are used to catch and handle exceptions. The try block contains the code that we want to execute, and the except block contains the code that should be executed if an exception occurs.\n",
    "\n",
    "### Here is an example:"
   ]
  },
  {
   "cell_type": "code",
   "execution_count": 6,
   "id": "28def582-d3ec-4f2e-9fbc-89d20ba848e6",
   "metadata": {},
   "outputs": [
    {
     "name": "stdin",
     "output_type": "stream",
     "text": [
      "Enter the number :  0\n"
     ]
    },
    {
     "name": "stdout",
     "output_type": "stream",
     "text": [
      "Can not divid by zero | Exception Error :  division by zero\n"
     ]
    }
   ],
   "source": [
    "try:\n",
    "    a = 10\n",
    "    b = int(input(\"Enter the number : \"))\n",
    "    c = a/b\n",
    "    print(c)\n",
    "except ZeroDivisionError as e:\n",
    "    print('Can not divid by zero | Exception Error : ', e)"
   ]
  },
  {
   "cell_type": "markdown",
   "id": "3ae7b941-b0e2-4078-9851-cc790ffe59cf",
   "metadata": {},
   "source": [
    "# Q4. Explain with an example:\n",
    "\n",
    "1. try and else\n",
    "2. finally \n",
    "3. raise"
   ]
  },
  {
   "cell_type": "markdown",
   "id": "a0823d8f-605f-487c-8ce0-b3426da338db",
   "metadata": {},
   "source": [
    "# 1.try and else statement:\n",
    "\n",
    "## In Python, we can use a try and else statement to handle exceptions and execute some code if no exceptions occur. The else block is executed only if the try block executes successfully and does not raise an exception. Here's an example:"
   ]
  },
  {
   "cell_type": "code",
   "execution_count": 11,
   "id": "d048cc9c-626f-4858-a371-bc368e56e181",
   "metadata": {},
   "outputs": [
    {
     "name": "stdin",
     "output_type": "stream",
     "text": [
      "Enter the value of Numerator :  10\n",
      "Enter the value of Denomenator :  5\n"
     ]
    },
    {
     "name": "stdout",
     "output_type": "stream",
     "text": [
      "Result =  2.0\n"
     ]
    }
   ],
   "source": [
    "try:\n",
    "    numerator = int(input('Enter the value of Numerator : '))\n",
    "    denominator = int(input('Enter the value of Denomenator : '))\n",
    "    division = numerator/denominator\n",
    "except ValueError as e:\n",
    "    print('Enter the numerical value only.')\n",
    "except ZeroDivisionError as e:\n",
    "    print('Can not divide by the zero.')\n",
    "else:\n",
    "    print('Result = ',division)"
   ]
  },
  {
   "cell_type": "markdown",
   "id": "e4c8e7d9-9d5f-4bdd-a90b-358365fb8c20",
   "metadata": {},
   "source": [
    "### In this program,\n",
    "\n",
    "### If an user enter the value of numerator or denominator as non-numerical value then ValueError is raised \n",
    "\n",
    "### If an user enter the value of denominator as zero then ZeroDivisionError is occurred\n",
    "\n",
    "### If the division is successful then execute the else block."
   ]
  },
  {
   "cell_type": "markdown",
   "id": "dc42b076-0b1f-492c-8069-11f799c93498",
   "metadata": {},
   "source": [
    "# 2.finally statement:\n",
    "\n",
    "# In Python, we can use a finally statement to specify a block of code that will be executed no matter what happens, whether an exception is raised or not. Here's an example:"
   ]
  },
  {
   "cell_type": "code",
   "execution_count": 13,
   "id": "15ec1acd-3722-435f-9c03-839c3d5524cc",
   "metadata": {},
   "outputs": [
    {
     "name": "stdin",
     "output_type": "stream",
     "text": [
      "Enter a number:  10\n",
      "Enter another number:  0\n"
     ]
    },
    {
     "name": "stdout",
     "output_type": "stream",
     "text": [
      "Cannot divide by zero\n",
      "Thank you for using our program\n"
     ]
    }
   ],
   "source": [
    "try:\n",
    "    x = int(input(\"Enter a number: \"))\n",
    "    y = int(input(\"Enter another number: \"))\n",
    "    z = x / y\n",
    "except ValueError:\n",
    "    print(\"Invalid input\")\n",
    "except ZeroDivisionError:\n",
    "    print(\"Cannot divide by zero\")\n",
    "else:\n",
    "    print(\"The result is\", z)\n",
    "finally:\n",
    "    print(\"Thank you for using our program\")"
   ]
  },
  {
   "cell_type": "markdown",
   "id": "b9006009-1928-4277-82ae-a6310d3da762",
   "metadata": {},
   "source": [
    "### In this program, we use a finally block to print a message to the user, no matter what happens. If an exception is raised, the code in the except block is executed, and the finally block is executed after that. If no exception is raised, the code in the else block is executed, and the finally block is executed after that."
   ]
  },
  {
   "cell_type": "markdown",
   "id": "e87c1dfa-68ac-4e0b-8063-56364575cf1b",
   "metadata": {},
   "source": [
    "# 3.raise statement:\n",
    "\n",
    "# In Python, we can use the raise statement to raise an exception manually. This can be useful if we want to create a custom exception or if we want to signal an error in our code. Here's an example:"
   ]
  },
  {
   "cell_type": "code",
   "execution_count": 14,
   "id": "f2e5a0ca-02d3-4fc0-8293-55290a3ffb80",
   "metadata": {},
   "outputs": [
    {
     "ename": "ValueError",
     "evalue": "x should be less than or equal to 5",
     "output_type": "error",
     "traceback": [
      "\u001b[0;31m---------------------------------------------------------------------------\u001b[0m",
      "\u001b[0;31mValueError\u001b[0m                                Traceback (most recent call last)",
      "Cell \u001b[0;32mIn[14], line 3\u001b[0m\n\u001b[1;32m      1\u001b[0m x \u001b[38;5;241m=\u001b[39m \u001b[38;5;241m10\u001b[39m\n\u001b[1;32m      2\u001b[0m \u001b[38;5;28;01mif\u001b[39;00m x \u001b[38;5;241m>\u001b[39m \u001b[38;5;241m5\u001b[39m:\n\u001b[0;32m----> 3\u001b[0m     \u001b[38;5;28;01mraise\u001b[39;00m \u001b[38;5;167;01mValueError\u001b[39;00m(\u001b[38;5;124m\"\u001b[39m\u001b[38;5;124mx should be less than or equal to 5\u001b[39m\u001b[38;5;124m\"\u001b[39m)\n",
      "\u001b[0;31mValueError\u001b[0m: x should be less than or equal to 5"
     ]
    }
   ],
   "source": [
    "x = 10\n",
    "if x > 5:\n",
    "    raise ValueError(\"x should be less than or equal to 5\")"
   ]
  },
  {
   "cell_type": "markdown",
   "id": "c6b01593-5ada-4ffd-9bfa-dee80bf14f08",
   "metadata": {},
   "source": [
    "### In this program, we use the raise statement to raise a ValueError if x is greater than 5. The ValueError is created with a message that explains the error. If x is less than or equal to 5, no exception is raised."
   ]
  }
 ],
 "metadata": {
  "kernelspec": {
   "display_name": "Python 3 (ipykernel)",
   "language": "python",
   "name": "python3"
  },
  "language_info": {
   "codemirror_mode": {
    "name": "ipython",
    "version": 3
   },
   "file_extension": ".py",
   "mimetype": "text/x-python",
   "name": "python",
   "nbconvert_exporter": "python",
   "pygments_lexer": "ipython3",
   "version": "3.10.8"
  }
 },
 "nbformat": 4,
 "nbformat_minor": 5
}
