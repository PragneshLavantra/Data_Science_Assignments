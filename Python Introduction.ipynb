{
 "cells": [
  {
   "cell_type": "markdown",
   "id": "13e8e85d-87c9-4d67-b949-e3e1efc5465b",
   "metadata": {},
   "source": [
    "# 29th January Assignment "
   ]
  },
  {
   "cell_type": "markdown",
   "id": "61678dfd-776d-43f4-a74c-a1c5c4272afe",
   "metadata": {},
   "source": [
    "# 1. Who developed python programming language?"
   ]
  },
  {
   "cell_type": "markdown",
   "id": "7ed70490-546c-47b8-9fc1-feca977fce00",
   "metadata": {},
   "source": [
    "### Ans: Python programming language was developed by Guido van Rossum."
   ]
  },
  {
   "cell_type": "markdown",
   "id": "e6b070cf-39e5-4682-9ea4-7ffb890d115b",
   "metadata": {},
   "source": [
    "# 2. Which type of programming does python support?"
   ]
  },
  {
   "cell_type": "markdown",
   "id": "6f3c1e35-897c-4fa3-89f1-75dc782c3a7e",
   "metadata": {},
   "source": [
    "### Ans: Python supports multiple programming paradigms including object-oriented programming (OOP), procedural programming, and functional programming."
   ]
  },
  {
   "cell_type": "markdown",
   "id": "7abd9a5b-e847-4783-af72-44a2f1acec6a",
   "metadata": {},
   "source": [
    "# 3. Is python case sensitive when dealing with identifeier? "
   ]
  },
  {
   "cell_type": "markdown",
   "id": "7b56a048-ba59-4642-b495-1731c801efd7",
   "metadata": {},
   "source": [
    "### Ans: Yes, Python is case-sensitive when dealing with identifiers (such as variable names, function names, etc.). For example, the names \"age\" and \"Age\" are considered to be different in Python."
   ]
  },
  {
   "cell_type": "markdown",
   "id": "844d5f31-bb9e-4479-97de-435b0acdaf47",
   "metadata": {},
   "source": [
    "# 4. What is the correct extension of python?"
   ]
  },
  {
   "cell_type": "markdown",
   "id": "baf95fa0-3020-4386-952b-24c6cd6d24eb",
   "metadata": {},
   "source": [
    "### Ans: The correct extension for a Python source code file is \".py\". This extension is used for files containing Python code and helps to identify them as Python files. When you save a Python file, you should save it with the .py extension, so that it can be executed as a Python script."
   ]
  },
  {
   "cell_type": "markdown",
   "id": "9cc30cf1-32c5-43dd-a7d1-aecfa6d71f95",
   "metadata": {},
   "source": [
    "# 5. Is python code is compiled or interpreted?"
   ]
  },
  {
   "cell_type": "markdown",
   "id": "f464c6d7-4837-439d-967e-7a46f28acfa0",
   "metadata": {},
   "source": [
    "### Ans: python is compiled as well as interpreted language. But hold on, when you read some books or when you read some articles on internet, they tell you that python is an interpreted language."
   ]
  },
  {
   "cell_type": "markdown",
   "id": "dac77bb3-e808-4f3a-a7ee-7e426d7602ce",
   "metadata": {},
   "source": [
    "# 6. Name a few block of code used to define in python language?"
   ]
  },
  {
   "cell_type": "markdown",
   "id": "79c9933b-3e35-4fb2-9188-6290c70048a2",
   "metadata": {},
   "source": [
    "### Ans: In Python, a few blocks of code used to define structures are:\n",
    "\n",
    "(1) Functions: Functions allow you to encapsulate a block of code and reuse it multiple times. Functions are defined using the 'def' keyword.\n",
    "\n",
    "(2) Classes: Classes are used to define objects and their behavior. A class is defined using the 'class' keyword.\n",
    "\n",
    "(3) If-else statements: If-else statements are used to conditionally execute different blocks of code based on a given condition. They are defined using the 'if' and 'else' keywords.\n",
    "\n",
    "(4) For loops: For loops are used to repeatedly execute a block of code for a set of items. They are defined using the 'for' keyword.\n",
    "\n",
    "(5) While loops: While loops are used to repeatedly execute a block of code as long as a certain condition is true. They are defined using the 'while' keyword.\n",
    "\n",
    "These are some of the most commonly used code blocks in Python, but there are many others as well."
   ]
  },
  {
   "cell_type": "markdown",
   "id": "e49beefd-a3b4-4f7c-b874-e9fd1bc40a91",
   "metadata": {},
   "source": [
    "# 7. State a character used to give single line comments in python?"
   ]
  },
  {
   "cell_type": "markdown",
   "id": "13fc62d6-e442-4247-b620-64347ec13bd8",
   "metadata": {},
   "source": [
    "### Ans: In Python, a single-line comment is indicated by the '#' symbol. Anything following the '#' symbol on a line is ignored by the Python interpreter and is treated as a comment."
   ]
  },
  {
   "cell_type": "markdown",
   "id": "e4e29d44-4cfa-4e8c-943c-439464bfc066",
   "metadata": {},
   "source": [
    "# 8. Mention functions which can help us to find the version of python that we are currently working on?"
   ]
  },
  {
   "cell_type": "markdown",
   "id": "7a6b5771-6f90-4218-bb85-bc4a20a1edf2",
   "metadata": {},
   "source": [
    "### Ans: There are two functions in Python that can help you determine the version of Python that you are currently working with:\n",
    "\n",
    "(1) sys.version: This returns a string that contains information about the Python version you are using, including the version number, build date, and compiler information.\n",
    "\n",
    "->  import sys\n",
    "    print(sys.version)\n",
    "    \n",
    "(2) sys.version_info: This returns a named tuple that contains information about the Python version you are using, including the major, minor, and micro version numbers.\n",
    "\n",
    "->  import sys\n",
    "    print(sys.version_info)\n"
   ]
  },
  {
   "cell_type": "markdown",
   "id": "2c887282-4198-40c5-b18c-674406a0385d",
   "metadata": {},
   "source": [
    "# 9. Python support the creation of anonymous functions at run time, using a  construct called"
   ]
  },
  {
   "cell_type": "markdown",
   "id": "a8273f3c-248a-40c5-8527-4b8321a050a9",
   "metadata": {},
   "source": [
    "### Ans: Python supports the creation of anonymous functions at runtime using a construct called lambda. A lambda function is a small, anonymous function that can be defined inline and used wherever a function object is required.\n",
    "\n",
    "-> Here's an example of a lambda function in Python:\n",
    "\n",
    "# A simple lambda function that adds two numbers\n",
    "sum = lambda a, b: a + b\n",
    "\n",
    "# Call the lambda function\n",
    "result = sum(3, 4)  \n",
    "print(result)"
   ]
  },
  {
   "cell_type": "markdown",
   "id": "5030837a-8281-4bec-a3ff-9746019b18ed",
   "metadata": {},
   "source": [
    "# 10. What does pip stand for python?"
   ]
  },
  {
   "cell_type": "markdown",
   "id": "714fc814-e5e4-4444-9f47-e2f817889bb2",
   "metadata": {},
   "source": [
    "### Ans: 'pip' stands for \"Pip Installs Packages\". \n",
    "### It is a package manager for Python that allows you to easily install, upgrade, and manage Python packages and modules."
   ]
  },
  {
   "cell_type": "markdown",
   "id": "a53c2565-285c-4211-b896-a9653f401283",
   "metadata": {},
   "source": [
    "# 11. Mention a few built-in functions in python?"
   ]
  },
  {
   "cell_type": "markdown",
   "id": "46e5d772-2454-411e-81f1-5b00ae9031fb",
   "metadata": {},
   "source": [
    "### Ans: \n",
    "\n",
    "(1) len(): This function is used to get the length of a sequence, such as a string, list, or tuple.\n",
    "\n",
    "(2) int(): This function is used to convert a value to an integer.\n",
    "\n",
    "(3) float(): This function is used to convert a value to a floating-point number.\n",
    "\n",
    "(4) str(): This function is used to convert a value to a string.\n",
    "\n",
    "(5) min(): This function is used to get the minimum value from a sequence.\n",
    "\n",
    "(6) max(): This function is used to get the maximum value from a sequence.\n",
    "\n",
    "(7) sorted(): This function is used to sort a sequence.\n",
    "\n",
    "(8) sum(): This function is used to get the sum of a sequence of numbers.\n",
    "\n",
    "(9) abs(): This function is used to get the absolute value of a number.\n",
    "\n",
    "(10) print(): This function is used to display output on the screen.\n",
    "\n",
    "These are just a few examples of the many built-in functions available in Python. Each function serves a specific purpose and can be used to perform various operations and calculations."
   ]
  },
  {
   "cell_type": "markdown",
   "id": "facc424f-0eed-4b6d-af79-394099944c76",
   "metadata": {},
   "source": [
    "# 12. What is the maximum possible length of  an identifier in Python?"
   ]
  },
  {
   "cell_type": "markdown",
   "id": "0765aad3-859e-41a1-b50d-8d5fca8ee3d0",
   "metadata": {},
   "source": [
    "### Ans: The maximum possible length of an identifier is not defined in the python language. It can be of any number. "
   ]
  },
  {
   "cell_type": "markdown",
   "id": "be2caa38-8837-4759-b578-c85080205738",
   "metadata": {},
   "source": [
    "# 13. What are the benefits of using Python?"
   ]
  },
  {
   "cell_type": "markdown",
   "id": "b456e9d0-36ff-466c-b764-6a7d38e75158",
   "metadata": {},
   "source": [
    "### Ans: There are many benefits to using Python as a programming language, including:\n",
    "\n",
    "(1) Easy to learn\n",
    "\n",
    "(2) Large standard library \n",
    "\n",
    "(3) Interpreted\n",
    "\n",
    "(4) Object-oriented\n",
    "\n",
    "(5) Platform independent \n",
    "\n",
    "These are just a few of the many benefits of using Python."
   ]
  },
  {
   "cell_type": "markdown",
   "id": "bd555774-125d-48d6-8e6b-7e7e70a2ce54",
   "metadata": {},
   "source": [
    "# 14. How is memory manage in python?"
   ]
  },
  {
   "cell_type": "markdown",
   "id": "2081c3b0-a7f5-48dc-a9d7-45f65d5ab147",
   "metadata": {},
   "source": [
    "### Ans: In Python, memory management is handled automatically by the Python interpreter. The Python memory manager manages the memory used by Python objects, such as strings, lists, and dictionaries, and ensures that the memory is efficiently used."
   ]
  },
  {
   "cell_type": "markdown",
   "id": "718359df-34a1-43bd-a7a3-7d9601fe3f42",
   "metadata": {},
   "source": [
    "# 15. How to install Python on windows and set path variables?"
   ]
  },
  {
   "cell_type": "markdown",
   "id": "97b49520-85b9-4466-ae63-0e99b3cf251f",
   "metadata": {},
   "source": [
    "### Ans: To install Python on Windows and set the path variables, you can follow these steps:\n",
    "\n",
    "(1) Download the Python installer: Go to the official Python website (https://www.python.org/downloads/) and download the latest version of Python for Windows.\n",
    "\n",
    "(2) Run the Installer: Double-click on the downloaded Python installer to begin the installation process. Follow the instructions to complete the installation. By default, Python will be installed to the C:\\PythonXX directory, where XX is the version number.\n",
    "\n",
    "(3) Set the Environment Variables: To set the environment variables, you will need to add the Python installation directory to the Windows Path. Here's how:\n",
    "\n",
    "-> Open the Start menu, search for \"Environment Variables\" and select \"Edit the system environment variables\".\n",
    "-> In the System Properties window, click on the \"Environment Variables\" button.\n",
    "-> In the Environment Variables window, scroll down to the \"System Variables\" section and find the \"Path\" variable.\n",
    "-> Click on the \"Edit\" button.\n",
    "-> In the Edit Environment Variable window, click on the \"New\" button and add the path to the Python installation directory \n",
    "   (e.g.,   C:\\PythonXX\\).\n",
    "-> Click OK to close all windows and save the changes.\n",
    "\n",
    "(4) Verify the Installation: To verify that Python has been installed and the path variables have been set, open the Command Prompt and type python. If the installation was successful, you should see the Python REPL (Read-Eval-Print Loop), where you can enter and run Python commands.\n",
    "\n",
    "With these steps, you should now have Python installed on your Windows machine and the environment variables set correctly. You should now be able to run Python scripts and use the Python interpreter from the Command Prompt.\n",
    "\n",
    "\n",
    "\n",
    "\n"
   ]
  },
  {
   "cell_type": "markdown",
   "id": "750d5fad-ac5c-4674-8e5b-01bd933c4184",
   "metadata": {},
   "source": [
    "# 16. Is indentation required in Python?"
   ]
  },
  {
   "cell_type": "markdown",
   "id": "9092796f-b566-4dde-be1e-79d59577fcab",
   "metadata": {},
   "source": [
    "### Ans: Yes, indentation is required in Python to define blocks of code, such as loops and functions. \n",
    "\n",
    "### Indentation is used to indicate the structure of the code and to group statements together. \n",
    "\n",
    "### In Python, indentation is significant, meaning that the level of indentation determines the structure of the code.\n"
   ]
  }
 ],
 "metadata": {
  "kernelspec": {
   "display_name": "Python 3 (ipykernel)",
   "language": "python",
   "name": "python3"
  },
  "language_info": {
   "codemirror_mode": {
    "name": "ipython",
    "version": 3
   },
   "file_extension": ".py",
   "mimetype": "text/x-python",
   "name": "python",
   "nbconvert_exporter": "python",
   "pygments_lexer": "ipython3",
   "version": "3.10.8"
  }
 },
 "nbformat": 4,
 "nbformat_minor": 5
}
