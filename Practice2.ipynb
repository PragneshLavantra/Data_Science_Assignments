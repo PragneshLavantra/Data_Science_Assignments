{
 "cells": [
  {
   "cell_type": "markdown",
   "id": "25344ca4-a840-4544-8aa1-d8bd3dd835fb",
   "metadata": {},
   "source": [
    "# Q1. You are writing code for a company. The requirement of the company is that you create a python function that will check whether the password entered by the user is correct or not. The function should take the password as input and return the string “Valid Password” if the entered password follows the below-given password guidelines else it should return “Invalid Password”.\n",
    "\n",
    "\n",
    "Note: \n",
    "    \n",
    "1. The Password should contain at least two uppercase letters and at least two lowercase letters.\n",
    "\n",
    "2. The Password should contain at least a number and three special characters.\n",
    "\n",
    "3. The length of the password should be 10 characters long."
   ]
  },
  {
   "cell_type": "code",
   "execution_count": 3,
   "id": "f740e13f-a71c-45cd-955d-fd2976884020",
   "metadata": {},
   "outputs": [
    {
     "name": "stdin",
     "output_type": "stream",
     "text": [
      "Note:\n",
      "\n",
      "1. The Password should contain at least two uppercase letters and at least two lowercase letters.\n",
      "\n",
      "2. The Password should contain at least a number and three special characters.\n",
      "\n",
      "3. The length of the password should be 10 characters long.\n",
      "\n",
      "-->Enter the password :  PRagnesh<@>1\n"
     ]
    },
    {
     "name": "stdout",
     "output_type": "stream",
     "text": [
      "\n",
      "Valid Password.\n"
     ]
    }
   ],
   "source": [
    "def check_pass(str1):\n",
    "    ucnt = lcnt = dcnt = scnt  =0\n",
    "    if len(str1) >= 10:\n",
    "        for i in str1:\n",
    "            if i.isdigit():\n",
    "                dcnt += 1\n",
    "            elif i.isupper():\n",
    "                ucnt += 1\n",
    "            elif i.islower():\n",
    "                lcnt += 1\n",
    "            elif ord(i) >= 33 or ord(i) <= 47 and ord(i) >= 58 or ord(i) <= 64 and ord(i) >= 91 or ord(i) <= 96 and ord(i) >= 123 or ord(i) <= 125:\n",
    "                scnt += 1\n",
    "            else:\n",
    "                print(\"Invalid Character, Please read the Note which is mention above.\")\n",
    "        if ucnt >= 2 and lcnt >= 2 and dcnt >= 1 and scnt >= 3:\n",
    "            print(\"\\nValid Password.\")\n",
    "        else:\n",
    "            print(\"\\nInvalid Password.\")\n",
    "    else:\n",
    "        print(\"\\nPassword must be greater then 10 character long.\")\n",
    "            \n",
    "    \n",
    "    \n",
    "str1 = input(\"\"\"Note:\n",
    "\n",
    "\\r1. The Password should contain at least two uppercase letters and at least two lowercase letters.\n",
    "\n",
    "\\r2. The Password should contain at least a number and three special characters.\n",
    "\n",
    "\\r3. The length of the password should be 10 characters long.\n",
    "\n",
    "\\r-->Enter the password : \"\"\")\n",
    "\n",
    "check_pass(str1)"
   ]
  },
  {
   "cell_type": "markdown",
   "id": "0c435f5a-6f7e-4d1f-a267-ce88df5062f7",
   "metadata": {},
   "source": [
    "# Q2. Solve the below-given questions using at least one of the following: \n",
    "\n",
    "1. Lambda functio\n",
    "2. Filter functio\n",
    "3. Map functio\n",
    "4. List Comprehension\n",
    "\n",
    "-> Check if the string starts with a particular letter.  \n",
    "-> Check if the string is numeric.  \n",
    "-> Sort a list of tuples having fruit names and their quantity.   \n",
    "\n",
    "[(\"mango\",99),(\"orange\",80), (\"grapes\", 1000)]\n",
    "\n",
    "-> Find the squares of numbers from 1 to 10.  \n",
    "-> Find the cube root of numbers from 1 to 10.  \n",
    "-> Check if a given number is even.  \n",
    "-> Filter odd numbers from the given list.  \n",
    "\n",
    " [1,2,3,4,5,6,7,8,9,10]\n",
    " \n",
    "-> Sort a list of integers into positive and negative integers lists.\n",
    "\n",
    " [1,2,3,4,5,6,-1,-2,-3,-4,-5,0]"
   ]
  },
  {
   "cell_type": "code",
   "execution_count": 23,
   "id": "bfd68636-5d08-47f9-8014-0eb484158991",
   "metadata": {},
   "outputs": [
    {
     "name": "stdout",
     "output_type": "stream",
     "text": [
      "YES \"Pragnesh\" Start with letter\n",
      "NO \"1lavantra\" Not starts with letter\n"
     ]
    }
   ],
   "source": [
    "st1 = lambda x : print(\"YES \\\"\" + x + \"\\\" Start with letter\") if x[0].isalpha() else print(\"NO\")\n",
    "st1(\"Pragnesh\")\n",
    "st2 = lambda x : print(\"YES\") if x[0].isalpha() else print(\"NO \\\"\" + x + \"\\\" Not starts with letter\")\n",
    "st2(\"1lavantra\")    "
   ]
  },
  {
   "cell_type": "code",
   "execution_count": 28,
   "id": "cbecf054-862d-429f-9d98-5c2e8bbfaed5",
   "metadata": {},
   "outputs": [
    {
     "name": "stdout",
     "output_type": "stream",
     "text": [
      "YES \"123\" is numeric string.\n",
      "NO \"p1\" is not numeric string.\n"
     ]
    }
   ],
   "source": [
    "st3 = lambda x : print(\"YES \\\"\" + x + \"\\\" is numeric string.\") if x.isdigit() else print(\"NO\")\n",
    "st3(\"123\")\n",
    "st4 = lambda x : print(\"YES\") if x.isdigit() else print(\"NO \\\"\" + x + \"\\\" is not numeric string.\")\n",
    "st4(\"p1\")"
   ]
  },
  {
   "cell_type": "code",
   "execution_count": 37,
   "id": "66833e9e-b6f2-45da-a28e-1555e1382752",
   "metadata": {},
   "outputs": [
    {
     "data": {
      "text/plain": [
       "[('orange', 80), ('mango', 99), ('grapes', 1000)]"
      ]
     },
     "execution_count": 37,
     "metadata": {},
     "output_type": "execute_result"
    }
   ],
   "source": [
    "lst1 = [(\"mango\",99),(\"orange\",80), (\"grapes\", 1000)]\n",
    "# Sort the list of tuples in ascending order based on the second element of each tuple\n",
    "sorted_fruits = sorted(lst1,key=lambda x : x[1]) \n",
    "sorted_fruits"
   ]
  },
  {
   "cell_type": "code",
   "execution_count": 4,
   "id": "a7be81e1-3b99-4fcc-9f71-c845ea0bbc63",
   "metadata": {},
   "outputs": [
    {
     "data": {
      "text/plain": [
       "[1.0,\n",
       " 1.2599210498948732,\n",
       " 1.4422495703074083,\n",
       " 1.5874010519681994,\n",
       " 1.7099759466766968,\n",
       " 1.8171205928321397,\n",
       " 1.912931182772389,\n",
       " 2.0,\n",
       " 2.080083823051904,\n",
       " 2.154434690031884]"
      ]
     },
     "execution_count": 4,
     "metadata": {},
     "output_type": "execute_result"
    }
   ],
   "source": [
    "import math\n",
    "sqtlst = [1,2,3,4,5,6,7,8,9,10]\n",
    "list(map(lambda x : pow(x,1/3),sqtlst))"
   ]
  },
  {
   "cell_type": "code",
   "execution_count": 5,
   "id": "d7817415-8c5c-4c3d-88b4-089bd25de219",
   "metadata": {},
   "outputs": [
    {
     "data": {
      "text/plain": [
       "[1, 4, 9, 16, 25, 36, 49, 64, 81, 100]"
      ]
     },
     "execution_count": 5,
     "metadata": {},
     "output_type": "execute_result"
    }
   ],
   "source": [
    "sqlst = [1,2,3,4,5,6,7,8,9,10]\n",
    "list(map(lambda x : x ** 2,sqlst))"
   ]
  },
  {
   "cell_type": "code",
   "execution_count": 46,
   "id": "768f6e04-856e-4c26-970d-6e6dd31f98cd",
   "metadata": {},
   "outputs": [
    {
     "data": {
      "text/plain": [
       "[2, 4, 6, 8, 10]"
      ]
     },
     "execution_count": 46,
     "metadata": {},
     "output_type": "execute_result"
    }
   ],
   "source": [
    "newlst = [1,2,3,4,5,6,7,8,9,10]\n",
    "evenlst = [x for x in newlst if x % 2 == 0]\n",
    "evenlst"
   ]
  },
  {
   "cell_type": "code",
   "execution_count": 47,
   "id": "10e8ccf1-e291-4d49-99ba-c9c8a5c8c61b",
   "metadata": {},
   "outputs": [
    {
     "data": {
      "text/plain": [
       "[1, 3, 5, 7, 9]"
      ]
     },
     "execution_count": 47,
     "metadata": {},
     "output_type": "execute_result"
    }
   ],
   "source": [
    "newlst = [1,2,3,4,5,6,7,8,9,10]\n",
    "list(filter(lambda x : x % 2 != 0,newlst))"
   ]
  },
  {
   "cell_type": "code",
   "execution_count": 48,
   "id": "65879b79-db33-4ba3-8c14-fa9176fb246d",
   "metadata": {},
   "outputs": [
    {
     "data": {
      "text/plain": [
       "[-1, -2, -3, -4, -5]"
      ]
     },
     "execution_count": 48,
     "metadata": {},
     "output_type": "execute_result"
    }
   ],
   "source": [
    "newlst2 = [1,2,3,4,5,6,-1,-2,-3,-4,-5,0]\n",
    "list(filter(lambda x : x < 0,newlst2))"
   ]
  },
  {
   "cell_type": "code",
   "execution_count": 49,
   "id": "1b812751-5450-4baa-98d3-30940772f6fb",
   "metadata": {},
   "outputs": [
    {
     "data": {
      "text/plain": [
       "[1, 2, 3, 4, 5, 6, 0]"
      ]
     },
     "execution_count": 49,
     "metadata": {},
     "output_type": "execute_result"
    }
   ],
   "source": [
    "newlst2 = [1,2,3,4,5,6,-1,-2,-3,-4,-5,0]\n",
    "list(filter(lambda x : x >= 0,newlst2))"
   ]
  }
 ],
 "metadata": {
  "kernelspec": {
   "display_name": "Python 3 (ipykernel)",
   "language": "python",
   "name": "python3"
  },
  "language_info": {
   "codemirror_mode": {
    "name": "ipython",
    "version": 3
   },
   "file_extension": ".py",
   "mimetype": "text/x-python",
   "name": "python",
   "nbconvert_exporter": "python",
   "pygments_lexer": "ipython3",
   "version": "3.10.8"
  }
 },
 "nbformat": 4,
 "nbformat_minor": 5
}
