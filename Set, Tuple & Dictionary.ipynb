{
 "cells": [
  {
   "cell_type": "markdown",
   "id": "87c08e48-1494-4c92-919c-8a19f81e5bc6",
   "metadata": {},
   "source": [
    "# 02nd February Assignment"
   ]
  },
  {
   "cell_type": "markdown",
   "id": "53e46bf7-ddcb-4760-9d10-2e5cff9b9978",
   "metadata": {},
   "source": [
    "# Q1. What are the characteristics of the tuples? Is tuple immutable?"
   ]
  },
  {
   "cell_type": "markdown",
   "id": "2d54eadf-8270-4dd6-b1b6-8ce7cf6efe39",
   "metadata": {},
   "source": [
    "### Yes, tuples are immutable in Python. This means that once a tuple is created, you cannot change the values it contains.\n",
    "\n",
    "Here are some of the main characteristics of tuples in Python:\n",
    "\n",
    "(1) Immutable: Once a tuple is created, you cannot change its values. This makes tuples suitable for representing data that should not change over time, such as dates, colors, or geographic coordinates.\n",
    "\n",
    "(2) Ordered: Tuples maintain the order of the elements they contain, so you can access elements by their position in the tuple.\n",
    "\n",
    "(3) Indexed: Tuples can be accessed using an index, just like lists. The first element in a tuple has an index of 0, the second has an index of 1, and so on.\n",
    "\n",
    "(4) Iterable: Tuples can be iterated over using a for loop, just like lists.\n",
    "\n",
    "(5) Heterogeneous: Tuples can contain elements of different data types, such as integers, strings, and other tuples.\n",
    "\n",
    "(6) Named: Tuples can be named, just like variables, to make them easier to reference and understand.\n",
    "\n",
    "(7) Lightweight: Tuples are more lightweight than lists, as they do not require the same level of memory management.\n",
    "\n",
    "In summary, tuples are immutable, ordered, indexed, iterable, heterogeneous, named, and lightweight."
   ]
  },
  {
   "cell_type": "markdown",
   "id": "b7390c63-708f-43b7-a2ed-d9b6aca5e06c",
   "metadata": {},
   "source": [
    "# Q2. What are the two tuple methods in python? Give an example of each method. Give a reason why tuples have only two in-built methods as compared to Lists."
   ]
  },
  {
   "cell_type": "markdown",
   "id": "ce7c593f-4bf0-4124-81d1-a45dcbc69f9d",
   "metadata": {},
   "source": [
    "### Tuples in Python have two built-in methods: count and index.\n",
    "\n",
    "(1) count method: The count method is used to count the number of occurrences of a specific value in a tuple.\n",
    "\n",
    "-> For example:\n",
    "\n",
    "t = (1, 2, 3, 2, 1)\n",
    "t.count(1)\n",
    "\n",
    "-> output: 2\n",
    "\n",
    "\n",
    "(2) index method: The index method is used to find the first index at which a specific value appears in a tuple.\n",
    "\n",
    "-> For example:\n",
    "\n",
    "t = (1, 2, 3, 2, 1)\n",
    "t.index(2)\n",
    "\n",
    "-> output: 1\n",
    "\n",
    "### Tuples have only two in-built method : \n",
    "\n",
    "Tuples have only two in-built methods as compared to lists because tuples are designed to be lightweight and efficient. Tuples are typically used to represent small, fixed collections of data that do not need to be modified, and the count and index methods are sufficient for most use cases. On the other hand, lists are more flexible and powerful, as they allow you to add, remove, and modify elements, so they have more built-in methods to support these operations.\n"
   ]
  },
  {
   "cell_type": "markdown",
   "id": "9468ed5f-0052-4bd9-ab7b-69fd8c2a9718",
   "metadata": {},
   "source": [
    "# Q3.  Which collection datatypes in python do not allow duplicate items? Write a code using a set to remove duplicates from the given list.\n",
    "\n",
    "### List = [1, 1, 1, 2, 1, 3, 1, 4, 2, 1, 2, 2, 2, 3, 2, 4, 3, 1, 3, 2, 3, 3, 3, 4, 4, 1, 4, 2, 4, 3, 4, 4]"
   ]
  },
  {
   "cell_type": "markdown",
   "id": "ceb48707-8d05-4c11-95e9-4930366173e2",
   "metadata": {},
   "source": [
    "### The collection data type in Python that does not allow duplicate items is the set. You can use a set to remove duplicates from a list. \n",
    "\n",
    "Here's an example:\n",
    "\n",
    "\n",
    "List = [1, 1, 1, 2, 1, 3, 1, 4, 2, 1, 2, 2, 2, 3, 2, 4, 3, 1, 3, 2, 3, 3, 3, 4, 4, 1, 4, 2, 4, 3, 4, 4]\n",
    "\n",
    "# Convert the list to a set\n",
    "unique_set = set(List)\n",
    "\n",
    "# Convert the set back to a list\n",
    "unique_list = list(unique_set)\n",
    "\n",
    "print(unique_list)\n",
    "\n",
    "This will produce the following output:\n",
    "\n",
    "[1, 2, 3, 4]\n",
    "\n",
    "As you can see, the duplicates have been removed, and the resulting list contains only unique elements"
   ]
  },
  {
   "cell_type": "markdown",
   "id": "4ca0fb43-e34e-481f-a0df-f55747b259a9",
   "metadata": {},
   "source": [
    "# Q4. Explain the difference between the union() and update() methods for a set. Give an example of each method."
   ]
  },
  {
   "cell_type": "markdown",
   "id": "43bb44d6-695f-434a-b003-9ea17e463f6e",
   "metadata": {},
   "source": [
    "### The union() and update() methods are used to combine two sets in Python. However, they differ in how they handle duplicates and the original sets.\n",
    "\n",
    "(1) union() method: The union() method returns a new set that contains all the elements from both sets, without any duplicates. It does not modify the original sets. \n",
    "\n",
    "-> For example:\n",
    "\n",
    "set1 = {1, 2, 3} <br> \n",
    "set2 = {2, 3, 4} <br> \n",
    "set3 = set1.union(set2) <br> \n",
    "print(set3)\n",
    "\n",
    "-> Output : {1, 2, 3, 4}\n",
    "\n",
    "In this example, the union() method is used to combine the sets set1 and set2 into a new set set3. The resulting set contains all the elements from both sets, without any duplicates.\n",
    "\n",
    "(2) update() method: The update() method adds all the elements from one set to another set. It modifies the set it is called on. \n",
    "\n",
    "-> For example:\n",
    "\n",
    "set1 = {1, 2, 3} <br> \n",
    "set2 = {2, 3, 4} <br> \n",
    "set1.update(set2) <br> \n",
    "print(set1)\n",
    "\n",
    "-> Output: {1, 2, 3, 4}\n",
    "\n",
    "In this example, the update() method is used to add all the elements from set2 to set1. The resulting set contains all the elements from both sets, without any duplicates. The original set set1 has been modified, so it now contains all the elements from set2.\n",
    "\n",
    "-> In conclusion, the union() method returns a new set that contains all the elements from both sets, without any duplicates, whereas the update() method adds all the elements from one set to another set, modifying the original set.\n",
    "\n",
    "\n",
    "\n",
    "\n"
   ]
  },
  {
   "cell_type": "markdown",
   "id": "8e263c03-3590-44f7-8ab5-ff2d3ebbd426",
   "metadata": {},
   "source": [
    "# Q5. What is a dictionary? Give an example. Also, state whether a dictionary is ordered or unordered."
   ]
  },
  {
   "cell_type": "markdown",
   "id": "aa583c50-f8a1-459e-b409-4018cff32fe9",
   "metadata": {},
   "source": [
    "### A dictionary in Python is an unordered collection of key-value pairs, where each key is unique. It is similar to a real-life dictionary, where a word (the key) is associated with its definition (the value).\n",
    "\n",
    "Here is an example of a dictionary in Python:\n",
    "\n",
    "person = {  \n",
    "    'first_name': 'Pragnesh',  \n",
    "    'last_name': 'Lavantra',  \n",
    "    'age': 22,  \n",
    "    'city': 'Ahmedabad'  \n",
    "}\n",
    "\n",
    "In this example, the dictionary person contains four key-value pairs, where each key ('first_name', 'last_name', 'age', 'city') is associated with its corresponding value ('Pragnesh', 'Lavantra', 22, 'Ahmedabad').\n",
    "\n",
    "A dictionary in Python is unordered, which means that the items in a dictionary do not have a specific order. The order of items in a dictionary may change when you modify the dictionary, so you should not rely on the order of items in a dictionary.\n",
    "\n",
    "If you need to maintain the order of items, you can use a collections.OrderedDict instead of a regular dictionary. An ordered dictionary is a dictionary-like data structure that maintains the order of items as you add or remove elements from it.\n",
    "\n",
    "\n",
    "\n"
   ]
  },
  {
   "cell_type": "markdown",
   "id": "c169d692-db1a-4c2a-8304-7ac978152552",
   "metadata": {},
   "source": [
    "# Q6. Can we create a nested dictionary? If so, please give an example by creating a simple one-level nested dictionary."
   ]
  },
  {
   "cell_type": "markdown",
   "id": "70fe1a2c-3245-42a7-8585-263cacabe00e",
   "metadata": {},
   "source": [
    "### Yes, you can create a nested dictionary in Python, which means that you can have a dictionary inside another dictionary. A nested dictionary is a dictionary where the values are also dictionaries.\n",
    "\n",
    "Here is an example of a one-level nested dictionary:\n",
    "\n",
    "person = {\n",
    "    'first_name': 'Pragnesh',  \n",
    "    'last_name': 'Lavantra',  \n",
    "    'details': {\n",
    "        'age': 22,  \n",
    "        'city': 'Ahmedabad',  \n",
    "        'hobbies': ['coding', 'traveling']  \n",
    "    }  \n",
    "}  \n",
    "\n",
    "In this example, the key 'details' of the dictionary 'person' is associated with another dictionary containing information about the person's age, city, and hobbies. \n",
    "\n",
    "To access the nested dictionary, you can use the following syntax:\n",
    "\n",
    "person['details']\n",
    "\n",
    "This will return the nested dictionary {'age': 22, 'city': 'Ahmedabad', 'hobbies': ['coding', 'traveling']}. To access individual values in the nested dictionary, you can use the following syntax:\n",
    "\n",
    "\n",
    "person['details']['age']  \n",
    "person['details']['city']  \n",
    "person['details']['hobbies']  "
   ]
  },
  {
   "cell_type": "markdown",
   "id": "e1ad3343-8b2e-4ec2-a777-a53f2dfc5c11",
   "metadata": {},
   "source": [
    "# Q7. Using setdefault() method, create key named topics in the given dictionary and also add the value of the key as this list ['Python', 'Machine Learning’, 'Deep Learning']\n",
    "\n",
    "# dict1 = {'language' : 'Python', 'course': 'Data Science Masters'}"
   ]
  },
  {
   "cell_type": "code",
   "execution_count": 3,
   "id": "4a0cf05e-e587-4a2f-95eb-0de50b03b4e2",
   "metadata": {},
   "outputs": [
    {
     "name": "stdout",
     "output_type": "stream",
     "text": [
      "{'language': 'Python', 'course': 'Data Science Masters', 'topic': ['Python', 'Machine Learning', 'Deep Learning']}\n"
     ]
    }
   ],
   "source": [
    "dict1 = {'language' : 'Python', 'course': 'Data Science Masters'}\n",
    "\n",
    "dict1.setdefault('topic',['Python','Machine Learning','Deep Learning'])\n",
    "\n",
    "print(dict1)"
   ]
  },
  {
   "cell_type": "markdown",
   "id": "6a94b4ff-cf41-466a-aa56-969db1f53907",
   "metadata": {},
   "source": [
    "# Q8. What are the three view objects in dictionaries? Use the three in-built methods in python to display these three view objects for the given dictionary.\n",
    "\n",
    "\n",
    "# dict1 = {'Sport': 'Cricket' , 'Teams': ['India', 'Australia', 'England', 'South Africa', 'Sri Lanka', 'New Zealand']}"
   ]
  },
  {
   "cell_type": "markdown",
   "id": "a4326706-39c9-43c5-867a-d7d6bb688495",
   "metadata": {},
   "source": [
    "### dict.keys() which returns a view of the dictionary's keys.\n",
    "### dict.values() which returns a view of the dictionary's values.\n",
    "### dict.items() which returns a view of the dictionary's key-value pairs as a sequence of (key, value) pairs.\n"
   ]
  },
  {
   "cell_type": "code",
   "execution_count": 10,
   "id": "0e0dc8fc-27a5-41a2-9f94-11a4661d4f19",
   "metadata": {},
   "outputs": [
    {
     "name": "stdout",
     "output_type": "stream",
     "text": [
      "Keys of dict1 :  dict_keys(['Sport', 'Teams'])\n",
      "Values of dict1 :  dict_values(['Cricket', ['India', 'Australia', 'England', 'South Africa', 'Sri Lanka', 'New Zealand']])\n",
      "Keys along with Values :  dict_items([('Sport', 'Cricket'), ('Teams', ['India', 'Australia', 'England', 'South Africa', 'Sri Lanka', 'New Zealand'])])\n"
     ]
    }
   ],
   "source": [
    "dict1 = {'Sport': 'Cricket' , 'Teams': ['India', 'Australia', 'England', 'South Africa', 'Sri Lanka', 'New Zealand']}\n",
    "\n",
    "print(\"Keys of dict1 : \",dict1.keys())\n",
    "print(\"Values of dict1 : \",dict1.values())\n",
    "print(\"Keys along with Values : \",dict1.items())"
   ]
  }
 ],
 "metadata": {
  "kernelspec": {
   "display_name": "Python 3 (ipykernel)",
   "language": "python",
   "name": "python3"
  },
  "language_info": {
   "codemirror_mode": {
    "name": "ipython",
    "version": 3
   },
   "file_extension": ".py",
   "mimetype": "text/x-python",
   "name": "python",
   "nbconvert_exporter": "python",
   "pygments_lexer": "ipython3",
   "version": "3.10.8"
  }
 },
 "nbformat": 4,
 "nbformat_minor": 5
}
