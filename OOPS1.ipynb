{
 "cells": [
  {
   "cell_type": "markdown",
   "id": "dca46277-1bfc-4ae8-92fa-3e692ba997c8",
   "metadata": {},
   "source": [
    "# 05th February Assignment"
   ]
  },
  {
   "cell_type": "markdown",
   "id": "bb83a8f6-f633-4892-9a16-a9df69f7b9aa",
   "metadata": {},
   "source": [
    "# Q1. Explain Class and Object with respect to Object-Oriented Programming. Give a suitable example."
   ]
  },
  {
   "cell_type": "markdown",
   "id": "487c3a57-b791-492c-bd6e-a3851b50286d",
   "metadata": {},
   "source": [
    "### Class: \n",
    "\n",
    "A Class in object-oriented programming is a blueprint or template for creating objects.It defines the data and behavior of a type of object.\n",
    "\n",
    "### Object:\n",
    "An object is an instance of a class, and it's a basic unit of object-oriented programming. Objects can have properties (also known as attributes or data members) and methods (also known as member functions or operations), and it can interact with other objects by sending and receiving messages.\n",
    "\n",
    "### Example:\n",
    "Consider a class \"Person\", the class can have properties such as first name, last name, age, etc. and methods such as walk, talk, etc. An object is an instance of the class, for example, Pragnesh is an object of the Person class. "
   ]
  },
  {
   "cell_type": "code",
   "execution_count": 71,
   "id": "f0cc7057-dfee-4c62-b294-d514a0212f36",
   "metadata": {},
   "outputs": [],
   "source": [
    "class Person:\n",
    "    def __init__(self, first_name, last_name, age):\n",
    "        self.f_name = first_name\n",
    "        self.l_name = last_name\n",
    "        self.age = age\n",
    "    def walk(self):\n",
    "        print(self.f_name + \" is walking now.\")\n",
    "    def talk(self):\n",
    "        print(self.f_name + \" is talking with \" + self.l_name + \"\\'s.\")"
   ]
  },
  {
   "cell_type": "code",
   "execution_count": 74,
   "id": "219fbf72-f30d-463a-ad4d-383a034a5691",
   "metadata": {},
   "outputs": [],
   "source": [
    "Pragnesh = Person('Pragnesh','Lavantra',22) # object of the class"
   ]
  },
  {
   "cell_type": "code",
   "execution_count": 61,
   "id": "75fc8c27-14b7-46fe-9ef7-138668b45509",
   "metadata": {},
   "outputs": [
    {
     "data": {
      "text/plain": [
       "'Pragnesh'"
      ]
     },
     "execution_count": 61,
     "metadata": {},
     "output_type": "execute_result"
    }
   ],
   "source": [
    "Pragnesh.f_name"
   ]
  },
  {
   "cell_type": "code",
   "execution_count": 62,
   "id": "329376cb-2d2e-472e-aaff-519b351b4fcf",
   "metadata": {},
   "outputs": [
    {
     "data": {
      "text/plain": [
       "'Lavantra'"
      ]
     },
     "execution_count": 62,
     "metadata": {},
     "output_type": "execute_result"
    }
   ],
   "source": [
    "Pragnesh.l_name"
   ]
  },
  {
   "cell_type": "code",
   "execution_count": 63,
   "id": "5534039c-9593-4022-97e9-375a6a0af818",
   "metadata": {},
   "outputs": [
    {
     "data": {
      "text/plain": [
       "22"
      ]
     },
     "execution_count": 63,
     "metadata": {},
     "output_type": "execute_result"
    }
   ],
   "source": [
    "Pragnesh.age"
   ]
  },
  {
   "cell_type": "code",
   "execution_count": 64,
   "id": "1f4f8ed7-98b9-4430-aee0-8af7807cee58",
   "metadata": {},
   "outputs": [
    {
     "name": "stdout",
     "output_type": "stream",
     "text": [
      "Pragnesh is walking now.\n"
     ]
    }
   ],
   "source": [
    "Pragnesh.walk()"
   ]
  },
  {
   "cell_type": "code",
   "execution_count": 73,
   "id": "934619b8-871b-4986-8ba9-4f7737c3e434",
   "metadata": {},
   "outputs": [
    {
     "name": "stdout",
     "output_type": "stream",
     "text": [
      "Pragnesh is talking with Lavantra's.\n"
     ]
    }
   ],
   "source": [
    "Pragnesh.talk()"
   ]
  },
  {
   "cell_type": "markdown",
   "id": "e6fe483c-7988-4939-b8aa-3149a8dbdcf6",
   "metadata": {},
   "source": [
    "# Q2. Name the four pillars of OOPs."
   ]
  },
  {
   "cell_type": "markdown",
   "id": "2488db46-b30f-4e3f-b73e-2156c491a344",
   "metadata": {},
   "source": [
    "### The four pillars of object-oriented programming (OOP) are:\n",
    "\n",
    "(1) Abstraction: Abstraction refers to the ability to focus on the essential features of an object and ignore the non-essential details. It helps to reduce complexity by hiding implementation details from the user.\n",
    "\n",
    "(2) Encapsulation: Encapsulation is the mechanism of wrapping data and functions within an object, making the data protected and the functions private. It restricts direct access to an object's data and helps to maintain the consistency and integrity of the data.\n",
    "\n",
    "(3) Inheritance: Inheritance is a mechanism that allows one class to inherit the properties and behaviors of another class, creating a hierarchy of classes. It promotes code reuse and helps to reduce code duplication.\n",
    "\n",
    "(4) Polymorphism: Polymorphism refers to the ability of objects to take on multiple forms. It allows objects of different classes to be treated as objects of the same class, and it enables objects to respond to the same message in different ways."
   ]
  },
  {
   "cell_type": "markdown",
   "id": "0be7c1a0-54bf-425f-b863-bb429d8e824f",
   "metadata": {},
   "source": [
    "# Q3. Explain why the __init__() function is used. Give a suitable example."
   ]
  },
  {
   "cell_type": "markdown",
   "id": "afd967fd-15f1-4867-9100-42502b181877",
   "metadata": {},
   "source": [
    "### The __init__ function is a special method in Python classes and is automatically called when an object of the class is created. It is used to initialize the attributes of the class and to set the default values for the object's properties.\n",
    "\n",
    "### Example: Consider a class \"Person\", it has two attributes, name and age."
   ]
  },
  {
   "cell_type": "code",
   "execution_count": 77,
   "id": "a28ac21e-befa-4f81-b730-ec107facdea5",
   "metadata": {},
   "outputs": [],
   "source": [
    "class Person:\n",
    "    def __init__(self, name, age):\n",
    "        self.name = name\n",
    "        self.age = age"
   ]
  },
  {
   "cell_type": "code",
   "execution_count": 78,
   "id": "9522e51d-fca1-45f5-99b0-dbf0f5682b0f",
   "metadata": {},
   "outputs": [
    {
     "name": "stdout",
     "output_type": "stream",
     "text": [
      "Pragnesh\n",
      "22\n"
     ]
    }
   ],
   "source": [
    "Pragnesh = Person(\"Pragnesh\", 22)\n",
    "print(Pragnesh.name) \n",
    "print(Pragnesh.age) "
   ]
  },
  {
   "cell_type": "markdown",
   "id": "074799d3-7fc4-4692-ad15-a7531240bb66",
   "metadata": {},
   "source": [
    "### In this example, the __init__ method is used to initialize the name and age attributes of the class \"Person\". When an object is created from this class, __init__ is automatically called and sets the default values of the attributes."
   ]
  },
  {
   "cell_type": "markdown",
   "id": "7e65e83e-8e7f-4470-805d-1130936e6ce2",
   "metadata": {},
   "source": [
    "# Q4. Why self is used in OOPs?"
   ]
  },
  {
   "cell_type": "markdown",
   "id": "ec58f19b-8c80-4088-a973-f54f1654c89c",
   "metadata": {},
   "source": [
    "### 'self' is a reference to the current instance(object or variable) of the class and is used to access the attributes and methods of the class within the class.\n",
    "\n",
    "### In Python, 'self' is a conventional parameter name used in the '__init__' and other methods to refer to the instance being created or operated on. \n",
    "\n",
    "### It allows the methods of the class to access and modify the attributes of the instance."
   ]
  },
  {
   "cell_type": "markdown",
   "id": "f24269b5-f1e0-459b-ad09-2b2baee79131",
   "metadata": {},
   "source": [
    "# Q5. What is inheritance? Give an example for each type of inheritance."
   ]
  },
  {
   "cell_type": "markdown",
   "id": "b0f8de85-bdc6-49b5-ab07-2169696b6511",
   "metadata": {},
   "source": [
    "### Inheritance is a mechanism in object-oriented programming that allows a new class to be derived from an existing class. The new class is called the derived class or the subclass and the existing class is called the base class or the superclass. The derived class inherits all the attributes and behaviors of the base class and can add or override them as needed.\n",
    "\n",
    "### There are several types of inheritance in object-oriented programming:\n",
    "\n",
    "### (1) Single inheritance: A derived class inherits from a single base class.\n",
    "\n",
    "### Example:"
   ]
  },
  {
   "cell_type": "code",
   "execution_count": 79,
   "id": "6652e413-7713-4242-a9e4-fabc09432d31",
   "metadata": {},
   "outputs": [
    {
     "name": "stdout",
     "output_type": "stream",
     "text": [
      "Species: Dog\n",
      "Breed: Labrador\n"
     ]
    }
   ],
   "source": [
    "class Animal:\n",
    "    def __init__(self, name, species):\n",
    "        self.name = name\n",
    "        self.species = species\n",
    "\n",
    "    def show_species(self):\n",
    "        print(\"Species:\", self.species)\n",
    "\n",
    "class Dog(Animal):\n",
    "    def __init__(self, name, breed):\n",
    "        Animal.__init__(self, name, \"Dog\")\n",
    "        self.breed = breed\n",
    "\n",
    "    def show_breed(self):\n",
    "        print(\"Breed:\", self.breed)\n",
    "\n",
    "dog = Dog(\"Rufus\", \"Labrador\")\n",
    "dog.show_species() # Output: Species: Dog\n",
    "dog.show_breed() # Output: Breed: Labrador"
   ]
  },
  {
   "cell_type": "markdown",
   "id": "d70edbaa-78e4-498d-a9c8-e90086dfd2ec",
   "metadata": {},
   "source": [
    "### (2) Multi-level inheritance: A derived class inherits from a base class, which in turn inherits from another base class.\n",
    "\n",
    "### Example:"
   ]
  },
  {
   "cell_type": "code",
   "execution_count": 80,
   "id": "b731d396-be31-4ec2-a199-0bb7ff5f8ca8",
   "metadata": {},
   "outputs": [
    {
     "name": "stdout",
     "output_type": "stream",
     "text": [
      "Species: Mammal\n",
      "Breed: Labrador\n"
     ]
    }
   ],
   "source": [
    "class Animal:\n",
    "    def __init__(self, name, species):\n",
    "        self.name = name\n",
    "        self.species = species\n",
    "\n",
    "    def show_species(self):\n",
    "        print(\"Species:\", self.species)\n",
    "\n",
    "class Mammal(Animal):\n",
    "    def __init__(self, name, animal_type):\n",
    "        Animal.__init__(self, name, \"Mammal\")\n",
    "        self.animal_type = animal_type\n",
    "\n",
    "class Dog(Mammal):\n",
    "    def __init__(self, name, breed):\n",
    "        Mammal.__init__(self, name, \"Domestic\")\n",
    "        self.breed = breed\n",
    "\n",
    "    def show_breed(self):\n",
    "        print(\"Breed:\", self.breed)\n",
    "\n",
    "dog = Dog(\"Rufus\", \"Labrador\")\n",
    "dog.show_species() # Output: Species: Mammal\n",
    "dog.show_breed() # Output: Breed: Labrador"
   ]
  },
  {
   "cell_type": "markdown",
   "id": "8a0c6417-2c78-4401-8f81-4a63a41c6716",
   "metadata": {},
   "source": [
    "### (3) Multiple inheritance: A derived class inherits from multiple base classes.\n",
    "\n",
    "### Example:"
   ]
  },
  {
   "cell_type": "code",
   "execution_count": 1,
   "id": "feb7ae1e-b783-4725-8acc-71577fa12a85",
   "metadata": {},
   "outputs": [
    {
     "name": "stdout",
     "output_type": "stream",
     "text": [
      "Species: Dog\n",
      "Breed: Labrador\n"
     ]
    }
   ],
   "source": [
    "class Animal:\n",
    "    def __init__(self, name, species):\n",
    "        self.name = name\n",
    "        self.species = species\n",
    "\n",
    "    def show_species(self):\n",
    "        print(\"Species:\", self.species)\n",
    "\n",
    "class Domestic:\n",
    "    def __init__(self, name, animal_type):\n",
    "        self.name = name\n",
    "        self.animal_type = animal_type\n",
    "\n",
    "class Dog(Animal, Domestic):\n",
    "    def __init__(self, name, breed):\n",
    "        Animal.__init__(self, name, \"Dog\")\n",
    "        Domestic.__init__(self, name, \"Domestic\")\n",
    "        self.breed = breed\n",
    "\n",
    "    def show_breed(self):\n",
    "        print(\"Breed:\", self.breed)\n",
    "\n",
    "dog = Dog(\"Rufus\", \"Labrador\")\n",
    "dog.show_species() # Output: Species: Dog\n",
    "dog.show_breed() # Output: Breed: Labrador"
   ]
  },
  {
   "cell_type": "markdown",
   "id": "5ec6f2a4-81eb-444d-aa9f-ba3d2a209b3c",
   "metadata": {},
   "source": [
    "# (4) Hierarchical Inheritance: When multiple classes inherit from a single parent class, it's called hierarchical inheritance."
   ]
  },
  {
   "cell_type": "code",
   "execution_count": 2,
   "id": "a90bdb9a-a813-46eb-b0c0-1805ec2ba481",
   "metadata": {},
   "outputs": [],
   "source": [
    "class Parent:\n",
    "    def __init__(self):\n",
    "        self.value = \"Parent class\"\n",
    "    def parentMethod(self):\n",
    "        print(\"This is the parent method\")\n",
    "\n",
    "class Child1(Parent):\n",
    "    def __init__(self):\n",
    "        super().__init__()\n",
    "        self.value = \"Child1 class\"\n",
    "    def child1Method(self):\n",
    "        print(\"This is the child1 method\")\n",
    "\n",
    "class Child2(Parent):\n",
    "    def __init__(self):\n",
    "        super().__init__()\n",
    "        self.value = \"Child2 class\"\n",
    "    def child2Method(self):\n",
    "        print(\"This is the child2 method\")\n"
   ]
  },
  {
   "cell_type": "markdown",
   "id": "fa747c2e-7289-4fdb-8a8d-dd9de4fb85aa",
   "metadata": {},
   "source": [
    "# (5) Hybrid Inheritance: When multiple inheritance is combined with other forms of inheritance, it's called hybrid inheritance."
   ]
  },
  {
   "cell_type": "code",
   "execution_count": 4,
   "id": "a96699fb-debc-4ed1-a7d5-01a1cedc30e3",
   "metadata": {},
   "outputs": [],
   "source": [
    "class Person:\n",
    "    def __init__(self, name, age):\n",
    "        self.name = name\n",
    "        self.age = age\n",
    "        \n",
    "    def display(self):\n",
    "        print(\"Name: \", self.name)\n",
    "        print(\"Age: \", self.age)\n",
    "        \n",
    "class Teacher(Person):\n",
    "    def __init__(self, name, age, subject):\n",
    "        Person.__init__(self, name, age)\n",
    "        self.subject = subject\n",
    "        \n",
    "    def display(self):\n",
    "        Person.display(self)\n",
    "        print(\"Subject: \", self.subject)\n",
    "        \n",
    "class Student(Person):\n",
    "    def __init__(self, name, age, roll_no):\n",
    "        Person.__init__(self, name, age)\n",
    "        self.roll_no = roll_no\n",
    "        \n",
    "    def display(self):\n",
    "        Person.display(self)\n",
    "        print(\"Roll No: \", self.roll_no)\n",
    "        \n",
    "class School:\n",
    "    def __init__(self, name, teacher_list, student_list):\n",
    "        self.name = name\n",
    "        self.teacher_list = teacher_list\n",
    "        self.student_list = student_list\n",
    "        \n",
    "    def display(self):\n",
    "        print(\"School Name: \", self.name)\n",
    "        print(\"Teachers: \")\n",
    "        for teacher in self.teacher_list:\n",
    "            teacher.display()\n",
    "        print(\"Students: \")\n",
    "        for student in self.student_list:\n",
    "            student.display()\n",
    "        \n",
    "class College(School, Teacher, Student):\n",
    "    def __init__(self, name, teacher_list, student_list, courses):\n",
    "        School.__init__(self, name, teacher_list, student_list)\n",
    "        self.courses = courses\n",
    "        \n",
    "    def display(self):\n",
    "        School.display(self)\n",
    "        print(\"Courses: \", self.courses)"
   ]
  },
  {
   "cell_type": "markdown",
   "id": "36b3716f-3b9d-4891-94fe-8788952ecd08",
   "metadata": {},
   "source": [
    "### In the above example, the College class is a combination of Single Inheritance, Multiple Inheritance, and Hierarchical Inheritance. It inherits from the School class (Single Inheritance), the Teacher class, and the Student class (Multiple Inheritance). The School class itself inherits from the Teacher and Student classes (Hierarchical Inheritance). This is an example of Hybrid Inheritance in Python."
   ]
  },
  {
   "cell_type": "code",
   "execution_count": null,
   "id": "4ef271ee-a12a-46fc-a4ef-8283f2708f25",
   "metadata": {},
   "outputs": [],
   "source": []
  }
 ],
 "metadata": {
  "kernelspec": {
   "display_name": "Python 3 (ipykernel)",
   "language": "python",
   "name": "python3"
  },
  "language_info": {
   "codemirror_mode": {
    "name": "ipython",
    "version": 3
   },
   "file_extension": ".py",
   "mimetype": "text/x-python",
   "name": "python",
   "nbconvert_exporter": "python",
   "pygments_lexer": "ipython3",
   "version": "3.10.8"
  }
 },
 "nbformat": 4,
 "nbformat_minor": 5
}
