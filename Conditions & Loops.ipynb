{
 "cells": [
  {
   "cell_type": "markdown",
   "id": "a95e0f7f-4623-409c-8678-9e4a53ba96ac",
   "metadata": {},
   "source": [
    "# 30th January Assignment "
   ]
  },
  {
   "cell_type": "markdown",
   "id": "f65d235b-a5a7-4487-b48b-042ce52dbadf",
   "metadata": {},
   "source": [
    "# Question 1"
   ]
  },
  {
   "cell_type": "code",
   "execution_count": 6,
   "id": "5c486793-5d27-4eb0-a153-028ecb29ca09",
   "metadata": {},
   "outputs": [
    {
     "name": "stdout",
     "output_type": "stream",
     "text": [
      "\n",
      "Hey, do you want to know your grad?\n",
      "\n"
     ]
    },
    {
     "name": "stdin",
     "output_type": "stream",
     "text": [
      "\n",
      "Please enter your percentage :  94\n"
     ]
    },
    {
     "name": "stdout",
     "output_type": "stream",
     "text": [
      "\n",
      "Your grad is \"A\". \n",
      "\n"
     ]
    }
   ],
   "source": [
    "# Grad system\n",
    "print(\"\\nHey, do you want to know your grad?\\n\")\n",
    "percentage = int(input(\"\\nPlease enter your percentage : \"))\n",
    "if percentage > 90 and percentage <= 100:\n",
    "    print(\"\\nYour grad is \\\"A\\\". \\n\")\n",
    "elif percentage > 80 and percentage <= 90:\n",
    "    print(\"\\nYour grad is \\\"B\\\". \\n\")\n",
    "elif percentage > 60 and percentage <= 80:\n",
    "    print(\"\\nYour grad is \\\"C\\\". \\n\")\n",
    "elif percentage <= 60:\n",
    "    print(\"\\nYour grad is \\\"D\\\".\\n\")\n",
    "else:\n",
    "    print(\"\\nSorry invalid percentage!\\n\\n \\rWarning -> Please enter the valid percentage.\\n\")"
   ]
  },
  {
   "cell_type": "markdown",
   "id": "65235798-1d86-44d6-ad92-3ea890850e84",
   "metadata": {},
   "source": [
    "# Question 2"
   ]
  },
  {
   "cell_type": "code",
   "execution_count": 2,
   "id": "8f83fbcb-2afa-4c24-ba6a-4165e6db558e",
   "metadata": {},
   "outputs": [
    {
     "name": "stdin",
     "output_type": "stream",
     "text": [
      "Enter the cost of your bike :  110000\n"
     ]
    },
    {
     "name": "stdout",
     "output_type": "stream",
     "text": [
      "\n",
      "Payable road tax of your bike :  16500.0\n"
     ]
    }
   ],
   "source": [
    "# According to bike cost there are some criteria of road tax (minimum cost of bike : 10,000)\n",
    "bike_cost = int(input(\"Enter the cost of your bike : \"))\n",
    "if bike_cost > 100000:\n",
    "    print(\"\\nPayable road tax of your bike : \",bike_cost*0.15)\n",
    "elif bike_cost > 50000 and bike_cost <= 100000:\n",
    "    print(\"\\nPayable road tax of your bike : \",bike_cost*0.10)\n",
    "elif bike_cost <= 50000 and bike_cost >= 10000:\n",
    "    print(\"\\nPayable road tax of your bike : \",bike_cost*0.05)\n",
    "else:\n",
    "    print(\"\\nPlease enter the valid cost of bike!\\n\")"
   ]
  },
  {
   "cell_type": "markdown",
   "id": "da6a86e5-6ed6-4301-8a70-2012b19d4263",
   "metadata": {},
   "source": [
    "# Question 3"
   ]
  },
  {
   "cell_type": "code",
   "execution_count": 5,
   "id": "260ff39f-0da2-4a39-af5e-6bd1a693c756",
   "metadata": {},
   "outputs": [
    {
     "name": "stdout",
     "output_type": "stream",
     "text": [
      "\n",
      "List of city.\n",
      "__________________\n",
      "->Delhi\n",
      "->Agra\n",
      "->Jaipur\n"
     ]
    },
    {
     "name": "stdin",
     "output_type": "stream",
     "text": [
      "\n",
      "Enter one city from above cities to know thier monument :  Delhi\n"
     ]
    },
    {
     "name": "stdout",
     "output_type": "stream",
     "text": [
      "\n",
      "The monument of the Delhi is Red Fort.\n"
     ]
    }
   ],
   "source": [
    "# monuments by city\n",
    "print(\"\\nList of city.\\n__________________\\n->Delhi\\n->Agra\\n->Jaipur\")\n",
    "city=input(\"\\nEnter one city from above cities to know thier monument : \")\n",
    "if city == \"Delhi\":\n",
    "    print(\"\\nThe monument of the Delhi is Red Fort.\")\n",
    "elif city == \"Agra\":\n",
    "    print(\"\\nThe monument of the Agra is Taj Mahal.\")\n",
    "elif city == \"Jaipur\":\n",
    "    print(\"\\nThe monument of the Jaipur is Jal Mahal.\")\n",
    "else:\n",
    "    print(\"\\nOhh, somthing went wrong!\\nPlease select one city from above mentioned list.\\n\")"
   ]
  },
  {
   "cell_type": "markdown",
   "id": "d2b9f89e-6286-4a3f-ab38-f3f654c52d41",
   "metadata": {},
   "source": [
    "# Question 4"
   ]
  },
  {
   "cell_type": "code",
   "execution_count": 8,
   "id": "df09378e-eb6c-45f2-97eb-41307d5d14f9",
   "metadata": {},
   "outputs": [
    {
     "name": "stdin",
     "output_type": "stream",
     "text": [
      "Enter a number :  180\n"
     ]
    },
    {
     "name": "stdout",
     "output_type": "stream",
     "text": [
      "\n",
      "180 can be divide by \"3\" time before is less than or equal to 10.\n"
     ]
    }
   ],
   "source": [
    "# Count the number, how many time given number can divide by 3 before is less than  or equal to 10 \n",
    "number = int(input(\"Enter a number : \"))\n",
    "temp = number\n",
    "count = 0\n",
    "while temp > 10:\n",
    "    temp /= 3\n",
    "    count += 1\n",
    "print(f\"\\n{number} can be divide by \\\"{count}\\\" time before is less than or equal to 10.\")"
   ]
  },
  {
   "cell_type": "markdown",
   "id": "4906feb5-44dd-4fe5-8354-eef2c59a52ce",
   "metadata": {},
   "source": [
    "# Question 5 :\n",
    "## Why and When to use while loop in Python give a detail description with example"
   ]
  },
  {
   "cell_type": "markdown",
   "id": "be1b051d-7021-4f08-9a12-4dcad147b777",
   "metadata": {},
   "source": [
    "# A while loop in Python is used to repeatedly execute a block of code as long as a specific condition is met.\n",
    "\n",
    "Here's the general syntax for a while loop in Python:\n",
    "\n",
    "while condition:\n",
    "    # code to be executed\n",
    "\n",
    "The condition is evaluated before each iteration of the loop. If the condition is True, the code inside the loop will be executed. Once the condition becomes False, the loop will terminate and the program will continue to execute the next line of code after the loop.\n",
    "\n",
    "Here's an example to illustrate the use of a while loop in Python:\n",
    "\n",
    "# Program to sum the first 10 positive integers\n",
    "\n",
    "sum = 0\n",
    "i = 1\n",
    "\n",
    "while i <= 10:\n",
    "     \\n \\t sum = sum + i\n",
    "    \\t i = i + 1\n",
    "\n",
    "print(\"The sum of the first 10 positive integers is: \", sum)\n",
    "In this example, the while loop is used to add up the first 10 positive integers. The condition is i <= 10, which means that the loop will continue to execute as long as the value of i is less than or equal to 10. The value of i is incremented by 1 at the end of each iteration using i = i + 1. The sum variable is updated with the current value of i at each iteration. Once the value of i becomes 11, the loop will terminate and the program will print the sum of the first 10 positive integers, which is 55.\n",
    "\n",
    "In summary, you should use a while loop in Python when you want to repeatedly execute a block of code as long as a specific condition is met. This type of loop is useful when you do not know in advance how many times the loop needs to be executed."
   ]
  },
  {
   "cell_type": "markdown",
   "id": "9a777690-4862-4da5-bf02-d425f2674f95",
   "metadata": {},
   "source": [
    "# Question 6"
   ]
  },
  {
   "cell_type": "code",
   "execution_count": 2,
   "id": "bde54ffb-7888-4fc7-8b48-759a8ffc9a11",
   "metadata": {},
   "outputs": [
    {
     "name": "stdout",
     "output_type": "stream",
     "text": [
      "     1\n",
      "\n",
      "    123\n",
      "\n",
      "   12345\n",
      "\n",
      "  1234567\n",
      "\n",
      " 123456789\n",
      "\n"
     ]
    }
   ],
   "source": [
    "# pattern_1\n",
    "row1 = 5\n",
    "col1 = 1\n",
    "str=\" \"\n",
    "while row1 > 0:\n",
    "    s_col1 = 1\n",
    "    print(str.center(row1),end=\"\")\n",
    "    while s_col1 <= col1:\n",
    "        print(s_col1,end=\"\")\n",
    "        s_col1 += 1\n",
    "    print(\"\\n\")\n",
    "    col1 += 2\n",
    "    row1 -= 1"
   ]
  },
  {
   "cell_type": "code",
   "execution_count": 3,
   "id": "96b55229-5f3b-4c0f-9b01-e691ed060bb7",
   "metadata": {},
   "outputs": [
    {
     "name": "stdout",
     "output_type": "stream",
     "text": [
      "\n",
      "\n",
      "\n",
      "* * * * * \n",
      "* * * * * \n",
      "* * * * * \n",
      "* * * * * \n",
      "* * * * * \n"
     ]
    }
   ],
   "source": [
    "# pattern_2\n",
    "\n",
    "print(\"\\n\\n\")\n",
    "\n",
    "row2 = 5 #qint(input(\"Enter number of raw : \"))\n",
    "\n",
    "while row2 > 0:\n",
    "    col2 = 5 #int(input(\"Enter number of column : \"))\n",
    "    while col2 > 0:\n",
    "        print(\"*\",end=\" \")\n",
    "        col2 -= 1\n",
    "    print(\"\")\n",
    "    row2 -= 1"
   ]
  },
  {
   "cell_type": "code",
   "execution_count": 4,
   "id": "2cf8b623-e385-4cbf-931d-159b1fa2e5d2",
   "metadata": {},
   "outputs": [
    {
     "name": "stdout",
     "output_type": "stream",
     "text": [
      "\n",
      "\n",
      "\n",
      "    *\n",
      "\n",
      "   * *\n",
      "\n",
      "  *   *\n",
      "\n",
      " *******\n",
      "\n"
     ]
    }
   ],
   "source": [
    "# pattern_3\n",
    "\n",
    "print(\"\\n\\n\")\n",
    "\n",
    "#row3 = int(input(\"\\nEnter the number of row : \"))\n",
    "row3 = 4\n",
    "col3 = 1\n",
    "str=\"\"\n",
    "while row3 > 0:\n",
    "    print(str.center(row3),end=\"\")\n",
    "    s_col3 = 1\n",
    "    last = col3 \n",
    "    while s_col3 <= col3:\n",
    "        if s_col3 == 1 or s_col3 == last or row3 == 1:\n",
    "            print(\"*\",end=\"\")\n",
    "            s_col3 += 1\n",
    "        else:\n",
    "            print(\" \",end=\"\")\n",
    "            s_col3 += 1\n",
    "    col3 += 2\n",
    "    row3 -= 1\n",
    "    print(\"\\n\")"
   ]
  },
  {
   "cell_type": "code",
   "execution_count": 6,
   "id": "fd94f54a-7d43-4bc1-b7ba-8abad99dbd75",
   "metadata": {},
   "outputs": [
    {
     "name": "stdout",
     "output_type": "stream",
     "text": [
      "\n",
      "\n",
      "\n",
      "* \n",
      "* * \n",
      "* * * \n",
      "* * * * \n",
      "* * * * * \n",
      "* * * * * * \n"
     ]
    }
   ],
   "source": [
    "# pattern_4\n",
    "\n",
    "print(\"\\n\\n\")\n",
    "\n",
    "\n",
    "row4 = 6\n",
    "s_row4 = 1\n",
    "while s_row4 <= row4:\n",
    "    col4 = s_row4\n",
    "    while col4 > 0:\n",
    "        print(\"*\",end=\" \")\n",
    "        col4 -= 1\n",
    "    s_row4 += 1\n",
    "    print(\"\")"
   ]
  },
  {
   "cell_type": "markdown",
   "id": "88e8992a-042f-43bb-a89c-b1d6156fa12c",
   "metadata": {},
   "source": [
    "# Question 7"
   ]
  },
  {
   "cell_type": "code",
   "execution_count": 7,
   "id": "0923da0e-d268-4a7f-855e-cee0db1511f8",
   "metadata": {},
   "outputs": [
    {
     "name": "stdout",
     "output_type": "stream",
     "text": [
      "10 9 8 7 6 5 4 3 2 1 "
     ]
    }
   ],
   "source": [
    "# print 10 to 1 with while loop\n",
    "number = 10\n",
    "while number > 0:\n",
    "    print(number,end=\" \")\n",
    "    number -= 1"
   ]
  },
  {
   "cell_type": "markdown",
   "id": "a7e1add9-f710-403d-9656-a97f7e5a8525",
   "metadata": {},
   "source": [
    "# Question 8"
   ]
  },
  {
   "cell_type": "markdown",
   "id": "8c7184ac-cec0-4dd7-a326-5d4e892306a4",
   "metadata": {},
   "source": [
    "## Question 8 as same Question 7."
   ]
  },
  {
   "cell_type": "markdown",
   "id": "ce3b8e0e-a630-4c40-9ca4-845215b55a6a",
   "metadata": {},
   "source": [
    "#"
   ]
  },
  {
   "cell_type": "markdown",
   "id": "4db015e6-30bf-4936-91ee-2bd50bbe9c11",
   "metadata": {},
   "source": [
    "#"
   ]
  },
  {
   "cell_type": "markdown",
   "id": "803ed82d-30cc-42c6-b072-c67eb049939e",
   "metadata": {},
   "source": [
    "#"
   ]
  },
  {
   "cell_type": "markdown",
   "id": "f2a558dd-f1cc-4322-a1be-7a16b18043ba",
   "metadata": {},
   "source": [
    "#"
   ]
  }
 ],
 "metadata": {
  "kernelspec": {
   "display_name": "Python 3 (ipykernel)",
   "language": "python",
   "name": "python3"
  },
  "language_info": {
   "codemirror_mode": {
    "name": "ipython",
    "version": 3
   },
   "file_extension": ".py",
   "mimetype": "text/x-python",
   "name": "python",
   "nbconvert_exporter": "python",
   "pygments_lexer": "ipython3",
   "version": "3.10.8"
  }
 },
 "nbformat": 4,
 "nbformat_minor": 5
}
