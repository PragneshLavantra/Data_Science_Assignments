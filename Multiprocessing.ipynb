{
 "cells": [
  {
   "cell_type": "markdown",
   "id": "56f4767a-53b6-4c1a-8f42-c0f54a77b48e",
   "metadata": {},
   "source": [
    "# 15th February Assignment"
   ]
  },
  {
   "cell_type": "markdown",
   "id": "ac109b6f-4636-4d31-b0b4-8816bd7e2097",
   "metadata": {},
   "source": [
    "# Q1. What is multiprocessing in python? Why is it useful?"
   ]
  },
  {
   "cell_type": "markdown",
   "id": "c4e5aca6-949c-4e99-b492-f7839b80961e",
   "metadata": {},
   "source": [
    "### Multiprocessing is a Python module that enables the execution of multiple processes in parallel, allowing a Python program to take full advantage of a computer's multi-core CPU architecture. It provides a way to spread the load of a program over several processors or cores, thus improving the program's performance and reducing its runtime.\n",
    "\n",
    "### Multiprocessing is useful for applications that require heavy computation, such as data processing, scientific computing, and machine learning. By leveraging the power of multiple CPUs, these applications can execute much faster and handle larger datasets than if they were executed using a single CPU.\n",
    "\n",
    "### Multiprocessing also provides a way to manage processes and communication between them. The multiprocessing module provides a set of classes and functions for creating and managing processes, as well as for passing data between them. This makes it easy to write concurrent programs that can be scaled up to handle large amounts of data or computational tasks."
   ]
  },
  {
   "cell_type": "markdown",
   "id": "78d4bf7b-e9ef-44fb-80e6-ba1b52365a42",
   "metadata": {},
   "source": [
    "# Q2. What are the differences between multiprocessing and multithreading?"
   ]
  },
  {
   "cell_type": "markdown",
   "id": "be7d8ca0-efaf-4ef9-acfe-e75a3d6e4c74",
   "metadata": {},
   "source": [
    "### Multiprocessing and multithreading are two techniques used for achieving concurrency in programming. Although both techniques are used to achieve the same goal, there are some differences between them, which are as follows:\n",
    "\n",
    "### (1) Process vs. Thread:\n",
    "\n",
    "### The basic difference between multiprocessing and multithreading is that multiprocessing involves the execution of multiple processes, while multithreading involves the execution of multiple threads within the same process.\n",
    "\n",
    "### (2) Memory Space:\n",
    "\n",
    "### Each process in multiprocessing has its own memory space, whereas threads in multithreading share the same memory space.\n",
    "\n",
    "### (3) Communication:\n",
    "\n",
    "### Communication between processes in multiprocessing is generally more difficult and requires the use of interprocess communication techniques such as pipes or sockets. In contrast, communication between threads in multithreading is generally easier and can be achieved through shared memory or message passing.\n",
    "\n",
    "### (4) CPU Utilization:\n",
    "\n",
    "### Multiprocessing can make better use of multiple CPUs or CPU cores as each process can be executed on a separate CPU or core. In contrast, multithreading may not make as effective use of multiple CPUs as all threads share the same CPU.\n",
    "\n",
    "### (5) Overhead:\n",
    "\n",
    "### Creating and managing multiple processes in multiprocessing can be more time-consuming and resource-intensive than creating and managing multiple threads in multithreading. Therefore, multiprocessing may have more overhead compared to multithreading.\n",
    "\n",
    "### (6) Error Handling:\n",
    "\n",
    "#### In multiprocessing, errors in one process do not affect the other processes. In contrast, errors in one thread can cause the entire process to crash in multithreading.\n",
    "\n",
    "### In summary, multiprocessing involves the execution of multiple processes, each with its own memory space, while multithreading involves the execution of multiple threads within the same process that share the same memory space. Multiprocessing is generally better suited for CPU-bound tasks and can make better use of multiple CPUs, while multithreading is better suited for I/O-bound tasks and can be more lightweight and have lower overhead."
   ]
  },
  {
   "cell_type": "markdown",
   "id": "a4338a3e-397a-4983-92d1-91fbd58abb27",
   "metadata": {},
   "source": [
    "# Q3. Write a python code to create a process using the multiprocessing module."
   ]
  },
  {
   "cell_type": "code",
   "execution_count": 1,
   "id": "430a4a68-fcb7-4614-8b8d-cf74f4c78b1e",
   "metadata": {},
   "outputs": [
    {
     "name": "stdout",
     "output_type": "stream",
     "text": [
      "1\n",
      "2\n",
      "3\n",
      "4\n",
      "5\n",
      "6\n",
      "7\n",
      "8\n",
      "9\n",
      "10\n"
     ]
    }
   ],
   "source": [
    "import multiprocessing\n",
    "\n",
    "def print_numbers():\n",
    "    for i in range(1, 11):\n",
    "        print(i)\n",
    "\n",
    "if __name__ == '__main__':\n",
    "    # Create a process\n",
    "    p = multiprocessing.Process(target=print_numbers)\n",
    "\n",
    "    # Start the process\n",
    "    p.start()\n",
    "\n",
    "    # Wait for the process to finish\n",
    "    p.join()\n"
   ]
  },
  {
   "cell_type": "markdown",
   "id": "30f4e21b-10c0-40db-964a-c080778054f7",
   "metadata": {},
   "source": [
    "### In this code, we first define a function print_numbers() that simply prints the numbers 1 to 10. We then use the multiprocessing.Process() constructor to create a new process, passing in the target argument as the print_numbers() function. We then call p.start() to start the process, and p.join() to wait for the process to finish before the main program continues.\n",
    "\n",
    "### Note that we wrap the creation of the process in the if __name__ == '__main__': condition. This is because when we create a process in Python, the new process starts a new Python interpreter that executes the target function. However, if we don't use the if __name__ == '__main__': condition, the new process will start again, and we'll end up with an infinite recursion."
   ]
  },
  {
   "cell_type": "markdown",
   "id": "1c4f9584-41a5-4fbe-afaa-e576697abb9f",
   "metadata": {},
   "source": [
    "# Q4. What is a multiprocessing pool in python? Why is it used?"
   ]
  },
  {
   "cell_type": "markdown",
   "id": "f6060cfd-64b1-4bbb-835a-1140658b9333",
   "metadata": {},
   "source": [
    "### In Python, a multiprocessing pool is a way to parallelize the execution of a function across multiple processes. The multiprocessing.Pool() class provides a simple way to create a pool of worker processes that can execute a given function on a set of input arguments.\n",
    "\n",
    "### The advantage of using a multiprocessing pool is that it allows us to parallelize the execution of a function across multiple processes, thereby taking advantage of multi-core CPUs and speeding up the execution of our code. This is particularly useful when we have a computationally intensive function that needs to be applied to a large dataset.\n",
    "\n",
    "### Note that the number of worker processes should be chosen based on the available resources of the system, as creating too many worker processes can lead to performance degradation due to context switching and memory usage."
   ]
  },
  {
   "cell_type": "markdown",
   "id": "ac7f7804-6761-4b8f-b80d-10930165da77",
   "metadata": {},
   "source": [
    "# Q5. How can we create a pool of worker processes in python using the multiprocessing module?"
   ]
  },
  {
   "cell_type": "markdown",
   "id": "675ed74c-f7da-4896-b119-b88cab8ef79b",
   "metadata": {},
   "source": [
    "### In Python, we can create a pool of worker processes using the multiprocessing.Pool() class. Here's an example that shows how to create a pool of worker processes in Python:"
   ]
  },
  {
   "cell_type": "code",
   "execution_count": 2,
   "id": "568ae68e-a9ea-4ced-851e-b2da98d5675d",
   "metadata": {},
   "outputs": [
    {
     "name": "stdout",
     "output_type": "stream",
     "text": [
      "Worker 0 startedWorker 1 startedWorker 2 startedWorker 3 started\n",
      "\n",
      "\n",
      "\n"
     ]
    }
   ],
   "source": [
    "import multiprocessing\n",
    "\n",
    "def worker(num):\n",
    "    \"\"\"Function that will be called by the worker processes\"\"\"\n",
    "    print('Worker {} started'.format(num))\n",
    "    return\n",
    "\n",
    "if __name__ == '__main__':\n",
    "    # Create a pool of worker processes\n",
    "    pool = multiprocessing.Pool(processes=4)\n",
    "\n",
    "    # Apply the worker function to the pool of processes\n",
    "    results = pool.map(worker, range(4))\n",
    "\n",
    "    # Close the pool of worker processes\n",
    "    pool.close()\n",
    "\n",
    "    # Wait for the worker processes to finish\n",
    "    pool.join()"
   ]
  },
  {
   "cell_type": "markdown",
   "id": "7ceb5b0b-0d8e-426f-881d-0cc41210ed9c",
   "metadata": {},
   "source": [
    "### In this example, we first define a worker() function that takes a number as an argument and simply prints a message to indicate that the worker process has started. We then create a pool of 4 worker processes using the multiprocessing.Pool() constructor. We use the map() method of the pool object to apply the worker() function to the range of numbers [0, 1, 2, 3].\n",
    "\n",
    "### The map() method blocks until all the worker processes have completed their tasks and returns a list of the results. In this case, since the worker() function does not return any value, the map() method returns a list of None values.\n",
    "\n",
    "### After the worker processes have finished their tasks, we call the close() method of the pool object to prevent any more tasks from being submitted to the pool. We then call the join() method of the pool object to wait for all the worker processes to complete before exiting the program.\n",
    "\n",
    "### Note that we wrap the code that creates the pool and applies the worker function to it in the if __name__ == '__main__': condition. This is necessary to avoid infinite recursion when the new processes start."
   ]
  },
  {
   "cell_type": "markdown",
   "id": "50063e94-4f84-4a79-ac57-2f46afa00c6e",
   "metadata": {},
   "source": [
    "# Q6. Write a python program to create 4 processes, each process should print a different number using the multiprocessing module in python."
   ]
  },
  {
   "cell_type": "code",
   "execution_count": 3,
   "id": "d35a1ad8-0148-4fba-a182-789b5e3f18da",
   "metadata": {},
   "outputs": [
    {
     "name": "stdout",
     "output_type": "stream",
     "text": [
      "Process 1: 1\n",
      "Process 2: 2\n",
      "Process 3: 3\n",
      "Process 4: 4\n"
     ]
    }
   ],
   "source": [
    "import multiprocessing\n",
    "\n",
    "def print_number(num):\n",
    "    print(f\"Process {num}: {num}\")\n",
    "\n",
    "if __name__ == '__main__':\n",
    "    # Create 4 processes\n",
    "    processes = []\n",
    "    for i in range(1, 5):\n",
    "        p = multiprocessing.Process(target=print_number, args=(i,))\n",
    "        processes.append(p)\n",
    "        p.start()\n",
    "\n",
    "    # Wait for all processes to finish\n",
    "    for p in processes:\n",
    "        p.join()"
   ]
  },
  {
   "cell_type": "markdown",
   "id": "957e4055-4890-4a2c-b093-76f9f396c8d2",
   "metadata": {},
   "source": [
    "### In this code, we define a function print_number() that takes a number as input and simply prints that number along with the process number. We then create 4 processes using a for loop, each process calls the print_number() function with a different number (1 to 4). We append each process object to a list called processes.\n",
    "\n",
    "### After all processes have been started, we wait for them to finish by calling the join() method of each process object in the processes list. The join() method blocks until the process is finished.\n",
    "\n",
    "### Note that we wrap the creation of the processes in the if __name__ == '__main__': condition, as we did in the previous examples. This is necessary to avoid infinite recursion when the new processes start."
   ]
  }
 ],
 "metadata": {
  "kernelspec": {
   "display_name": "Python 3 (ipykernel)",
   "language": "python",
   "name": "python3"
  },
  "language_info": {
   "codemirror_mode": {
    "name": "ipython",
    "version": 3
   },
   "file_extension": ".py",
   "mimetype": "text/x-python",
   "name": "python",
   "nbconvert_exporter": "python",
   "pygments_lexer": "ipython3",
   "version": "3.10.8"
  }
 },
 "nbformat": 4,
 "nbformat_minor": 5
}
