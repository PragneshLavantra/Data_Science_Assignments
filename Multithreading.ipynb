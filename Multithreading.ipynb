{
 "cells": [
  {
   "cell_type": "markdown",
   "id": "70d47169-fe22-40a3-a8d4-926a3ae6b66e",
   "metadata": {},
   "source": [
    "# 14th February Assignment"
   ]
  },
  {
   "cell_type": "markdown",
   "id": "b9578032-f007-4c81-94b8-1b34aa77366e",
   "metadata": {},
   "source": [
    "# Q1. what is multithreading in python? why is it used? Name the module used to handle threads in python."
   ]
  },
  {
   "cell_type": "markdown",
   "id": "4f7d804c-89e9-4060-9bb8-9b31f5551755",
   "metadata": {},
   "source": [
    "### Multithreading in Python refers to the ability to execute multiple threads (smaller sub-tasks) concurrently within a single process. Each thread runs independently, and multiple threads can run simultaneously within the same program.\n",
    "\n",
    "### Multithreading is used in Python to improve the performance of applications that require parallelism. By splitting a large task into multiple threads, each thread can work on a smaller part of the task simultaneously, which can significantly reduce the time it takes to complete the task. Multithreading is particularly useful in I/O-bound applications where the threads can overlap I/O operations with other computations.\n",
    "\n",
    "### The module used to handle threads in Python is the 'threading' module. It provides a simple and efficient way to create, start, and manage threads in Python. The 'threading' module allows you to create a new thread by instantiating the 'Thread' class and passing a callable object (usually a function) as an argument. You can also use the 'Lock' class from the threading module to synchronize access to shared resources between multiple threads."
   ]
  },
  {
   "cell_type": "markdown",
   "id": "21697f02-6dfc-42fc-bbfb-b0d196df0b67",
   "metadata": {},
   "source": [
    "# Q2. why threading module used? write the use of the following functions:\n",
    "(1) activeCount()  \n",
    "(2) currentThread()  \n",
    "(3) enumerate()  "
   ]
  },
  {
   "cell_type": "markdown",
   "id": "9f2d037c-73fc-46cc-bbcd-63d7961004d7",
   "metadata": {},
   "source": [
    "### The threading module in Python is used for creating and managing threads in a Python program. It allows you to write programs with multiple threads of execution that can run concurrently.\n",
    "\n",
    "### Here are the use cases of the following functions from the threading module:\n",
    "\n",
    "### 1. activeCount(): This function is used to get the number of thread objects that are currently active and in the running state. It returns the number of Thread objects that are currently running, including the main thread. This can be useful for debugging purposes, or to monitor the number of threads that are currently running in your application.\n",
    "\n",
    "### 2.currentThread(): This function is used to get the current Thread object that represents the thread from which it is called. It returns a reference to the current thread object, which can be used to identify the thread or to perform other operations on the thread. For example, you can use it to get the name of the current thread, or to set attributes on the thread.\n",
    "\n",
    "### 3. enumerate(): This function is used to get a list of all the Thread objects that are currently running. It returns a list of Thread objects, which can be used to identify and manipulate the threads that are currently running in your application. This can be useful for monitoring the status of threads in your application, or for debugging purposes. By default, the main thread is also included in the list of threads returned by this function."
   ]
  },
  {
   "cell_type": "markdown",
   "id": "8b1ad2f2-5260-4dd9-8a5f-34c17c89ffe8",
   "metadata": {},
   "source": [
    "# Q3. Explain the following functions:\n",
    "(1) run()  \n",
    "(2) start()  \n",
    "(3) join()  \n",
    "(4) isAlive()  "
   ]
  },
  {
   "cell_type": "markdown",
   "id": "e5dc5767-2613-423b-b73a-23a9aae89f85",
   "metadata": {},
   "source": [
    "### In Python's threading module, the following functions are commonly used to create and manage threads:\n",
    "\n",
    "### 1. run(): This method is called when a new thread is started and is used to define the code that the thread will execute. It is meant to be overridden by a subclass of Thread, which can define its own run() method to provide custom behavior for the thread. The run() method should contain the code that the thread will execute when it starts running.\n",
    "\n",
    "### 2. start(): This method is used to start a new thread of execution. It creates a new thread object and calls the run() method of the thread object in a separate thread of execution. Once the new thread is started, control returns immediately to the calling thread, which can continue with its own execution. The start() method should be called once on each thread object to start the thread.\n",
    "\n",
    "### 3. join(): This method is used to wait for a thread to finish its execution. It blocks the calling thread until the thread being joined completes its execution. If the thread being joined has already finished, the join() method returns immediately. The join() method can also be called with a timeout parameter, which specifies the maximum time to wait for the thread to finish.\n",
    "\n",
    "### 4. isAlive(): This method is used to check whether a thread is currently running. It returns True if the thread is still running, or False if the thread has finished its execution. This method can be useful for monitoring the status of a thread, or for determining whether a thread has completed its execution before joining it."
   ]
  },
  {
   "cell_type": "markdown",
   "id": "605266c9-3d23-48e4-ac3e-6d1b97ecedae",
   "metadata": {},
   "source": [
    "# Q4. write a python program to create two threads. Thread one must print the list of squares and thread two must print the list of cubes."
   ]
  },
  {
   "cell_type": "code",
   "execution_count": 5,
   "id": "b89ed1de-8c85-49b9-b773-4279865bfac7",
   "metadata": {},
   "outputs": [
    {
     "name": "stdout",
     "output_type": "stream",
     "text": [
      "1 square is 1\n",
      "2 square is 4\n",
      "3 square is 9\n",
      "4 square is 16\n",
      "5 square is 25\n",
      "6 square is 36\n",
      "7 square is 49\n",
      "8 square is 64\n",
      "9 square is 81\n",
      "10 square is 100\n",
      "1 cube is 1\n",
      "2 cube is 8\n",
      "3 cube is 27\n",
      "4 cube is 64\n",
      "5 cube is 125\n",
      "6 cube is 216\n",
      "7 cube is 343\n",
      "8 cube is 512\n",
      "9 cube is 729\n",
      "10 cube is 1000\n"
     ]
    }
   ],
   "source": [
    "import threading\n",
    "\n",
    "def sqr1():\n",
    "    for i in range(1,11):\n",
    "        print(f'{i} square is {i ** 2}')\n",
    "        \n",
    "def cube1():\n",
    "    for i in range(1,11):\n",
    "        print(f'{i} cube is {i ** 3}')\n",
    "        \n",
    "thread1 = threading.Thread(target = sqr1)\n",
    "thread2 = threading.Thread(target = cube1)\n",
    "\n",
    "thread1.start()\n",
    "thread2.start()"
   ]
  },
  {
   "cell_type": "markdown",
   "id": "b5993bc2-d8af-4361-be8e-769ea1d9e27e",
   "metadata": {},
   "source": [
    "# Q5. State advantages and disadvantages of multithreading."
   ]
  },
  {
   "cell_type": "markdown",
   "id": "26abb854-bf1b-4ff6-9e05-81eaf2657d1a",
   "metadata": {},
   "source": [
    "# Advantages:\n",
    "\n",
    "### 1. Increased performance: Multithreading can improve the performance of a program by allowing it to execute multiple tasks simultaneously, taking advantage of the available processing power of a multicore processor.\n",
    "\n",
    "### 2. Responsiveness: Multithreading can make a program more responsive to user input by allowing it to perform time-consuming operations in the background while still responding to user interactions in the main thread.\n",
    "\n",
    "### 3. Better resource utilization: Multithreading can help to better utilize system resources such as CPU, memory, and I/O devices by allowing multiple tasks to run concurrently and efficiently.\n",
    "\n",
    "### 4. Modularization: Multithreading can help modularize a program by breaking it down into smaller, more manageable parts, each running in its own thread."
   ]
  },
  {
   "cell_type": "markdown",
   "id": "93c2ca9d-354c-4b89-a53e-e7021ad0bb07",
   "metadata": {},
   "source": [
    "# Disadvantages:\n",
    "\n",
    "### 1. ity: Multithreading can make a program more complex, requiring more careful design and programming to avoid synchronization issues and race conditions between threads.\n",
    "### 2. nization issues: Multithreading can introduce synchronization issues and race conditions between threads, which can lead to bugs and unpredictable behavior in the program.\n",
    "### 3. ed resource usage: Multithreading can increase the resource usage of a program, requiring more memory and CPU usage to manage the threads.\n",
    "### 4. ng difficulty: Debugging multithreaded programs can be difficult, as issues may arise only intermittently and may be difficult to reproduce."
   ]
  },
  {
   "cell_type": "markdown",
   "id": "2abd5911-004a-4e03-b575-3bcb0929bf7d",
   "metadata": {},
   "source": [
    "# Q6. Explain deadlocks and race conditions."
   ]
  },
  {
   "cell_type": "markdown",
   "id": "7ea1b657-77be-46aa-829f-5f970730d901",
   "metadata": {},
   "source": [
    "# Deadlocks and race conditions are two common concurrency problems that can occur in multithreaded programs.\n",
    "\n",
    "# 1. Deadlocks:\n",
    "### A deadlock is a situation in which two or more threads are blocked, waiting for each other to release a resource. This can occur when each thread holds a resource that the other thread needs, creating a circular dependency that cannot be resolved. Deadlocks can cause a program to become unresponsive, as the threads involved are unable to make progress.\n",
    "\n",
    "# 2. Race conditions:\n",
    "### A race condition is a situation in which the behavior of a program depends on the relative timing of events in two or more threads. This can occur when multiple threads access a shared resource without proper synchronization, leading to unpredictable behavior. For example, if two threads simultaneously attempt to modify a shared variable, the final value of the variable may depend on the order in which the threads execute, leading to inconsistent or incorrect results."
   ]
  }
 ],
 "metadata": {
  "kernelspec": {
   "display_name": "Python 3 (ipykernel)",
   "language": "python",
   "name": "python3"
  },
  "language_info": {
   "codemirror_mode": {
    "name": "ipython",
    "version": 3
   },
   "file_extension": ".py",
   "mimetype": "text/x-python",
   "name": "python",
   "nbconvert_exporter": "python",
   "pygments_lexer": "ipython3",
   "version": "3.10.8"
  }
 },
 "nbformat": 4,
 "nbformat_minor": 5
}
