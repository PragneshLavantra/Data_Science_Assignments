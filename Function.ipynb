{
 "cells": [
  {
   "cell_type": "markdown",
   "id": "6f19a4f6-a4ce-4a0e-89fb-387b31b69676",
   "metadata": {},
   "source": [
    "# 03rd February Assignment "
   ]
  },
  {
   "cell_type": "markdown",
   "id": "024ff213-6f8a-481b-b032-5d576917fec3",
   "metadata": {},
   "source": [
    "# Q1. Which keyword is used to create a function? Create a function to return a list of odd numbers in the range of 1 to 25"
   ]
  },
  {
   "cell_type": "markdown",
   "id": "cc21730f-754d-4bdb-85e4-578bd9ce3122",
   "metadata": {},
   "source": [
    "### The 'def' keyword is used to create a function in Python."
   ]
  },
  {
   "cell_type": "code",
   "execution_count": 1,
   "id": "e0a31443-a15a-4169-984a-1ba2bbc8a70e",
   "metadata": {},
   "outputs": [
    {
     "name": "stdout",
     "output_type": "stream",
     "text": [
      "[1, 3, 5, 7, 9, 11, 13, 15, 17, 19, 21, 23, 25]\n"
     ]
    }
   ],
   "source": [
    "def odd():\n",
    "    lst = []\n",
    "    for i in range(1,26):\n",
    "        if i % 2 != 0:\n",
    "            lst.append(i)\n",
    "    return lst\n",
    "\n",
    "print(odd())"
   ]
  },
  {
   "cell_type": "markdown",
   "id": "7f19268b-4a0f-48d9-a144-f6ed5d0bfa6f",
   "metadata": {},
   "source": [
    "# Q2. Why *args and **kwargs is used in some functions? Create a function each for *args and **kwargs to demonstrate their use."
   ]
  },
  {
   "cell_type": "markdown",
   "id": "e3f343f7-5115-426d-9f3e-fbaa97784a1b",
   "metadata": {},
   "source": [
    "### In Python, the *args and **kwargs syntax is used to pass a variable number of arguments to a function.\n",
    "\n",
    "*args is used to pass a non-keyworded, variable-length argument list to the function. The * operator allows us to pass any number of non-keyword arguments to a function.\n",
    "\n",
    "**kwargs is used to pass keyworded, variable-length argument list to the function. The ** operator allows us to pass any number of keyword arguments to a function.\n",
    "\n",
    "The *args and **kwargs syntax is useful when we don't know beforehand how many arguments a function should take. It allows us to pass a flexible number of arguments to a function and the function can access them as a list and dictionary respectively."
   ]
  },
  {
   "cell_type": "code",
   "execution_count": 3,
   "id": "329cbd91-c4ce-4f9d-ad8f-3cb6cbddf222",
   "metadata": {},
   "outputs": [
    {
     "name": "stdout",
     "output_type": "stream",
     "text": [
      "Non-keyword arguments :  (1, 2, 3)\n",
      "Keyword arguments :  {'name': 'Pragnesh', 'age': 22}\n"
     ]
    }
   ],
   "source": [
    "def test(*args,**kwargs):\n",
    "    print(\"Non-keyword arguments : \",args)\n",
    "    print(\"Keyword arguments : \",kwargs)\n",
    "    \n",
    "test(1,2,3,name = 'Pragnesh',age = 22)"
   ]
  },
  {
   "cell_type": "markdown",
   "id": "e5dd5c73-f15c-415e-b428-10a45a31d0bf",
   "metadata": {},
   "source": [
    "# Q3.  What is an iterator in python? Name the method used to initialise the iterator object and the method used for iteration. Use these methods to print the first five elements of the given \n",
    "# list [2, 4, 6, 8, 10, 12, 14, 16,18, 20]."
   ]
  },
  {
   "cell_type": "markdown",
   "id": "7fa38fe4-82fa-4d64-be2f-a1cf7d3b6aea",
   "metadata": {},
   "source": [
    "### Ans:\n",
    "\n",
    "In Python, an iterator is an object that implements the iterator protocol, which consists of two methods: '__iter__()' and '__next__()'. \n",
    "\n",
    "The '__iter__()' method returns the iterator object itself and is used to initialize the iterator object. \n",
    "\n",
    "The '__next__()' method returns the next value from the iterator and is used for iteration. If there are no more items to return, it should raise StopIteration.\n",
    "\n"
   ]
  },
  {
   "cell_type": "code",
   "execution_count": null,
   "id": "1bbbe98c-e59b-41ed-9a08-bbd29aa834cd",
   "metadata": {},
   "outputs": [
    {
     "name": "stdout",
     "output_type": "stream",
     "text": [
      "2\n",
      "4\n",
      "6\n",
      "8\n",
      "10\n"
     ]
    }
   ],
   "source": [
    "# Creating a list\n",
    "lst = [2, 4, 6, 8, 10, 12, 14, 16, 18, 20]\n",
    "\n",
    "# Getting an iterator from the list\n",
    "it = iter(lst)\n",
    "\n",
    "# Initializing the iterator object\n",
    "iterator = it.__iter__()\n",
    "\n",
    "# Printing the first five elements of the list\n",
    "for i in range(5):\n",
    "  print(iterator.__next__())"
   ]
  },
  {
   "cell_type": "markdown",
   "id": "8a0c376a-e0ab-48fc-a519-70122afd3bbe",
   "metadata": {},
   "source": [
    "# Q4.  What is a generator function in python? Why yield keyword is used? Give an example of a generator function."
   ]
  },
  {
   "cell_type": "markdown",
   "id": "d7f30e6b-fe6b-45d4-8cf8-846b41c4e3d3",
   "metadata": {},
   "source": [
    "A generator function in Python is a special type of function that allows for the creation of an iterator. Unlike normal functions, generator functions use the yield keyword to return a value, instead of return. When a generator function is called, it returns a generator object, which can be iterated over.\n",
    "\n",
    "The yield keyword is used to return a value from the generator function and pause the function's execution. The function can be resumed from where it was paused the next time __next__() is called on the generator object. This allows the generator function to produce a sequence of values over time, rather than all at once, which can be more memory-efficient."
   ]
  },
  {
   "cell_type": "code",
   "execution_count": 14,
   "id": "aaa8e719-cfd2-47e1-9a47-7b31c53d6af5",
   "metadata": {},
   "outputs": [
    {
     "name": "stdout",
     "output_type": "stream",
     "text": [
      "0\n",
      "1\n",
      "4\n",
      "9\n",
      "16\n"
     ]
    }
   ],
   "source": [
    "def square_numbers(limit):\n",
    "  for i in range(limit):\n",
    "    yield i * i\n",
    "\n",
    "# Calling the generator function\n",
    "gen = square_numbers(5)\n",
    "\n",
    "# Iterating over the generator object\n",
    "for num in gen:\n",
    "  print(num)"
   ]
  },
  {
   "cell_type": "markdown",
   "id": "87c59606-8cef-4d3b-b74d-4929cf5934ea",
   "metadata": {},
   "source": [
    "# Q5. Create a generator function for prime numbers less than 1000. Use the next() method to print the first 20 prime numbers."
   ]
  },
  {
   "cell_type": "code",
   "execution_count": 15,
   "id": "2d8167ad-232a-4164-9060-a570d8e39a04",
   "metadata": {},
   "outputs": [
    {
     "name": "stdout",
     "output_type": "stream",
     "text": [
      "2\n",
      "3\n",
      "5\n",
      "7\n",
      "11\n",
      "13\n",
      "17\n",
      "19\n",
      "23\n",
      "29\n",
      "31\n",
      "37\n",
      "41\n",
      "43\n",
      "47\n",
      "53\n",
      "59\n",
      "61\n",
      "67\n",
      "71\n"
     ]
    }
   ],
   "source": [
    "def prime_numbers():\n",
    "  for num in range(2, 1000):\n",
    "    for i in range(2, num):\n",
    "      if num % i == 0:\n",
    "        break\n",
    "    else:\n",
    "      yield num\n",
    "\n",
    "# Calling the generator function\n",
    "gen = prime_numbers()\n",
    "\n",
    "# Using the next() method to print the first 20 prime numbers\n",
    "for i in range(20):\n",
    "  print(next(gen))\n"
   ]
  }
 ],
 "metadata": {
  "kernelspec": {
   "display_name": "Python 3 (ipykernel)",
   "language": "python",
   "name": "python3"
  },
  "language_info": {
   "codemirror_mode": {
    "name": "ipython",
    "version": 3
   },
   "file_extension": ".py",
   "mimetype": "text/x-python",
   "name": "python",
   "nbconvert_exporter": "python",
   "pygments_lexer": "ipython3",
   "version": "3.10.8"
  }
 },
 "nbformat": 4,
 "nbformat_minor": 5
}
