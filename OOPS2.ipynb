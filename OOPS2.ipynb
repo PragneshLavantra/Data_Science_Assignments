{
 "cells": [
  {
   "cell_type": "markdown",
   "id": "aa23c6b5-6295-4160-93be-edda05df8e8d",
   "metadata": {},
   "source": [
    "# 9th February Assignment"
   ]
  },
  {
   "cell_type": "markdown",
   "id": "1ee980e3-11d3-49cf-945b-e70e1c7845e5",
   "metadata": {},
   "source": [
    "# Q1. Create a vehicle class with an init method having instance variables as name_of_vehicle, max_speed and average_of_vehicle.\n"
   ]
  },
  {
   "cell_type": "code",
   "execution_count": 15,
   "id": "16398162-7206-42cd-ad74-16767f988494",
   "metadata": {},
   "outputs": [],
   "source": [
    "class vehicle:\n",
    "    def __init__(self,name_of_vehicle, max_speed,average_of_vehicle):\n",
    "        self.name = name_of_vehicle\n",
    "        self.speed = max_speed\n",
    "        self.average = average_of_vehicle\n",
    "        \n",
    "    def test1(self):\n",
    "        print(\"l\")"
   ]
  },
  {
   "cell_type": "markdown",
   "id": "30ddff9d-e5bf-46b8-895b-84fb64ae19a2",
   "metadata": {},
   "source": [
    "# Q2. Create a child class car from the vehicle class created in Que 1, which will inherit the vehicle class. Create a method named seating_capacity which takes capacity as an argument and returns the name of the vehicle and its seating capacity."
   ]
  },
  {
   "cell_type": "code",
   "execution_count": 40,
   "id": "adc7448b-3546-4323-92b4-e7e7d051fad7",
   "metadata": {},
   "outputs": [],
   "source": [
    "class car(vehicle):\n",
    "    def seating_capacity(self,capacity):\n",
    "        print(f\"The {self.name} has {capacity} number of capacity\")\n",
    "    \n"
   ]
  },
  {
   "cell_type": "code",
   "execution_count": 43,
   "id": "f5b1e132-e861-4360-960f-5e853daddb79",
   "metadata": {},
   "outputs": [],
   "source": [
    "obj_car = car(\"KIA\",180,12)"
   ]
  },
  {
   "cell_type": "code",
   "execution_count": 44,
   "id": "69a47565-cfc3-4619-ae38-0cd718f492cd",
   "metadata": {},
   "outputs": [
    {
     "name": "stdout",
     "output_type": "stream",
     "text": [
      "The KIA has 6 number of capacity\n"
     ]
    }
   ],
   "source": [
    "obj_car.seating_capacity(6)"
   ]
  },
  {
   "cell_type": "markdown",
   "id": "6446e5a0-f3d7-4da3-85ce-af9dd487b983",
   "metadata": {},
   "source": [
    "# Q3. What is multiple inheritance? Write a python code to demonstrate multiple inheritance."
   ]
  },
  {
   "cell_type": "markdown",
   "id": "edc4606c-8852-452f-9ac4-f06542b9a79c",
   "metadata": {},
   "source": [
    "### Multiple inheritance is a feature of some object-oriented programming languages that allows a class to inherit characteristics and behaviors from more than one parent class. This means that the class can inherit attributes and methods from multiple parent classes, rather than just one.\n",
    "\n",
    "### For example, consider a scenario where you have two classes, Person and Vehicle, and you want to create a new class, Driver, which represents a person who can drive a vehicle. In a language that supports multiple inheritance, you could create the Driver class by inheriting from both the Person and Vehicle classes. The Driver class would then have access to the attributes and methods of both the Person and Vehicle classes.\n",
    "\n",
    "### It's important to note that multiple inheritance can lead to complex class relationships and potential ambiguity in situations where multiple parent classes define the same attribute or method. Some programming languages, such as Java, do not support multiple inheritance.\n",
    "\n",
    "### hear, the example is following: "
   ]
  },
  {
   "cell_type": "code",
   "execution_count": 57,
   "id": "03b4ce2f-4cb2-466d-b0c5-8303de29bf6b",
   "metadata": {},
   "outputs": [],
   "source": [
    "class Test_match:\n",
    "    def test_match_over(self,over):\n",
    "        print(f\"In a Test match there are total {over} over per day.\")"
   ]
  },
  {
   "cell_type": "code",
   "execution_count": 58,
   "id": "e45cad71-ef52-4cd4-aaa1-9a0098622e24",
   "metadata": {},
   "outputs": [],
   "source": [
    "class One_day_match:\n",
    "    def one_day_match_over(self,over):\n",
    "        print(f\"In a One day match there are total {over} over per day.\")        "
   ]
  },
  {
   "cell_type": "code",
   "execution_count": 59,
   "id": "38e2737a-7cd5-4b20-aa6a-2a547d1a0e4d",
   "metadata": {},
   "outputs": [],
   "source": [
    "class T_20_match:\n",
    "    def t_20_match_over(self,over):\n",
    "        print(f\"In a T_20 match there are total {over} over per day.\")        "
   ]
  },
  {
   "cell_type": "code",
   "execution_count": 60,
   "id": "e70766bc-20f9-4d34-b27e-e4bfa6f394ae",
   "metadata": {},
   "outputs": [],
   "source": [
    "class BCCI(Test_match, One_day_match, T_20_match):\n",
    "    pass"
   ]
  },
  {
   "cell_type": "code",
   "execution_count": 61,
   "id": "e94bdeae-2a60-47e4-84f3-1b473ceb28ef",
   "metadata": {},
   "outputs": [],
   "source": [
    "obj_bcci = BCCI()"
   ]
  },
  {
   "cell_type": "code",
   "execution_count": 62,
   "id": "8ded4d16-4b61-4976-ba1d-19227e388181",
   "metadata": {},
   "outputs": [
    {
     "name": "stdout",
     "output_type": "stream",
     "text": [
      "In a Test match there are total 90 over per day.\n"
     ]
    }
   ],
   "source": [
    "obj_bcci.test_match_over(90)"
   ]
  },
  {
   "cell_type": "code",
   "execution_count": 64,
   "id": "977f3fd9-aa86-485f-b0e5-89366f108327",
   "metadata": {},
   "outputs": [
    {
     "name": "stdout",
     "output_type": "stream",
     "text": [
      "In a One day match there are total 100 over per day.\n"
     ]
    }
   ],
   "source": [
    "obj_bcci.one_day_match_over(100)"
   ]
  },
  {
   "cell_type": "code",
   "execution_count": 63,
   "id": "86faf515-8db1-402f-a5fd-dcd05617e56b",
   "metadata": {},
   "outputs": [
    {
     "name": "stdout",
     "output_type": "stream",
     "text": [
      "In a T_20 match there are total 40 over per day.\n"
     ]
    }
   ],
   "source": [
    "obj_bcci.t_20_match_over(40)"
   ]
  },
  {
   "cell_type": "markdown",
   "id": "6ef165a6-3283-41cf-b8db-db3313a54c35",
   "metadata": {},
   "source": [
    "# Q4. What are getter and setter in python? Create a class and create a getter and a setter method in this class."
   ]
  },
  {
   "cell_type": "markdown",
   "id": "c525400d-ca29-40ea-b63c-f4dec54f6634",
   "metadata": {},
   "source": [
    "### In Python, getter and setter methods are used to access and modify the values of an object's attributes.\n",
    "\n",
    "### A getter method is a method that retrieves the value of a private attribute from an object, while a setter method is a method that sets the value of a private attribute of an object.\n",
    "\n",
    "### Here's an example of a class with getter and setter methods:"
   ]
  },
  {
   "cell_type": "code",
   "execution_count": 8,
   "id": "0efc989e-66d5-4247-8bca-2cadadce2670",
   "metadata": {},
   "outputs": [
    {
     "name": "stdout",
     "output_type": "stream",
     "text": [
      "The age of Pragnesh is 22.\n",
      "\n",
      "The age of Ilesh is 26.\n"
     ]
    }
   ],
   "source": [
    "class person:\n",
    "    def __init__(self, name, age):\n",
    "        self._name = name           # Protected attribute\n",
    "        self.__age = age            # Private attribute\n",
    "        \n",
    "    def get_name(self):\n",
    "        return self._name\n",
    "    \n",
    "    def set_name(self, name):\n",
    "        self._name = name\n",
    "        \n",
    "    def get_age(self):\n",
    "        return self.__age\n",
    "    \n",
    "    def set_age(self, age):\n",
    "        self.__age = age\n",
    "        \n",
    "obj_person = person(\"Pragnesh\", 22)\n",
    "\n",
    "print(f\"The age of {obj_person.get_name()} is {obj_person.get_age()}.\")\n",
    "\n",
    "obj_person.set_name(\"Ilesh\")\n",
    "\n",
    "obj_person.set_age(26)\n",
    "\n",
    "print(f\"\\nThe age of {obj_person.get_name()} is {obj_person.get_age()}.\")\n"
   ]
  },
  {
   "cell_type": "markdown",
   "id": "e153f973-5c80-4908-9acc-9ca8da33cabc",
   "metadata": {},
   "source": [
    "### Note: In this example, we create a Person object with the name \"Pragnesh\" and age 22.After that we use the getter and setter methods to retrieve and modify the values of the object's attributes."
   ]
  },
  {
   "cell_type": "markdown",
   "id": "b30cb6c1-3403-4a93-b9af-2f97ae051b67",
   "metadata": {},
   "source": [
    "# Q5.What is method overriding in python? Write a python code to demonstrate method overriding."
   ]
  },
  {
   "cell_type": "markdown",
   "id": "3f3e8c2e-0e1f-484e-8aff-600f9a827abd",
   "metadata": {},
   "source": [
    "### Method overriding is a feature of object-oriented programming that allows a subclass to provide its own implementation of a method that is already defined in its superclass. When a method is overridden, the subclass implementation replaces the implementation of the superclass, and is used instead when the method is called on an instance of the subclass.\n",
    "\n",
    "### Here is an example of method overriding in Python:"
   ]
  },
  {
   "cell_type": "code",
   "execution_count": 16,
   "id": "e8f07ea2-efb1-495a-909f-e17efcbf04b4",
   "metadata": {},
   "outputs": [],
   "source": [
    "class Animal:\n",
    "    def make_sound(self):\n",
    "        print(\"The animal makes a sound.\")\n",
    "        \n",
    "class Dog(Animal):\n",
    "    def make_sound(self):\n",
    "        print(\"The Dog barks.\")\n",
    "        \n",
    "class Cat(Animal):\n",
    "    def make_sound(self):\n",
    "        print(\"The cat meowww.\")"
   ]
  },
  {
   "cell_type": "code",
   "execution_count": 17,
   "id": "fe8fb1aa-d1e7-4033-a417-0ca184b2fad8",
   "metadata": {},
   "outputs": [
    {
     "name": "stdout",
     "output_type": "stream",
     "text": [
      "The animal makes a sound.\n",
      "The Dog barks.\n",
      "The cat meowww.\n"
     ]
    }
   ],
   "source": [
    "obj_animal = Animal()\n",
    "obj_animal.make_sound()\n",
    "\n",
    "obj_dog = Dog()\n",
    "obj_dog.make_sound()\n",
    "\n",
    "obj_cat = Cat()\n",
    "obj_cat.make_sound()"
   ]
  }
 ],
 "metadata": {
  "kernelspec": {
   "display_name": "Python 3 (ipykernel)",
   "language": "python",
   "name": "python3"
  },
  "language_info": {
   "codemirror_mode": {
    "name": "ipython",
    "version": 3
   },
   "file_extension": ".py",
   "mimetype": "text/x-python",
   "name": "python",
   "nbconvert_exporter": "python",
   "pygments_lexer": "ipython3",
   "version": "3.10.8"
  }
 },
 "nbformat": 4,
 "nbformat_minor": 5
}
